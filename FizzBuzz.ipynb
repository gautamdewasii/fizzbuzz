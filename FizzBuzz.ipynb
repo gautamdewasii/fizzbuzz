{
  "nbformat": 4,
  "nbformat_minor": 0,
  "metadata": {
    "colab": {
      "provenance": []
    },
    "kernelspec": {
      "name": "python3",
      "display_name": "Python 3"
    },
    "language_info": {
      "name": "python"
    }
  },
  "cells": [
    {
      "cell_type": "code",
      "source": [
        "# necessary libraries :-\n",
        "\n",
        "# creating Data\n",
        "import numpy as np\n",
        "\n",
        "# create container for NN\n",
        "from tensorflow.keras.models import Sequential\n",
        "# create layers\n",
        "from tensorflow.keras.layers import Dense\n",
        "from tensorflow.keras.layers import Dropout"
      ],
      "metadata": {
        "id": "TBNCjp5bIull"
      },
      "execution_count": 122,
      "outputs": []
    },
    {
      "cell_type": "code",
      "source": [
        "def label_encoder(n):\n",
        "\n",
        "    if (n%3 ==0) and (n%5 ==0):\n",
        "        # FizzBuzz\n",
        "        return [0, 0, 0, 1]\n",
        "    elif n%3 == 0:\n",
        "      # Fizz\n",
        "        return [1, 0, 0, 0]\n",
        "    elif n%5 == 0:\n",
        "      # Buzz\n",
        "        return [0, 1, 0, 0]\n",
        "    else:\n",
        "      # Other\n",
        "        return [0, 0, 1, 0]\n",
        "\n"
      ],
      "metadata": {
        "id": "EXrnFz-CIq4F"
      },
      "execution_count": 123,
      "outputs": []
    },
    {
      "cell_type": "code",
      "source": [
        "# Generate training data\n",
        "X_train = np.array(range(1, 101))\n",
        "\n",
        "# label data ( with encoding)\n",
        "y_train = np.array([label_encoder(n) for n in X_train])"
      ],
      "metadata": {
        "id": "PoPybzTwJ_L4"
      },
      "execution_count": 124,
      "outputs": []
    },
    {
      "cell_type": "code",
      "source": [
        "X_train"
      ],
      "metadata": {
        "colab": {
          "base_uri": "https://localhost:8080/"
        },
        "id": "aQknkzShOYdS",
        "outputId": "7e1948a1-a941-4225-8c3d-68dcabe82b0b"
      },
      "execution_count": 125,
      "outputs": [
        {
          "output_type": "execute_result",
          "data": {
            "text/plain": [
              "array([  1,   2,   3,   4,   5,   6,   7,   8,   9,  10,  11,  12,  13,\n",
              "        14,  15,  16,  17,  18,  19,  20,  21,  22,  23,  24,  25,  26,\n",
              "        27,  28,  29,  30,  31,  32,  33,  34,  35,  36,  37,  38,  39,\n",
              "        40,  41,  42,  43,  44,  45,  46,  47,  48,  49,  50,  51,  52,\n",
              "        53,  54,  55,  56,  57,  58,  59,  60,  61,  62,  63,  64,  65,\n",
              "        66,  67,  68,  69,  70,  71,  72,  73,  74,  75,  76,  77,  78,\n",
              "        79,  80,  81,  82,  83,  84,  85,  86,  87,  88,  89,  90,  91,\n",
              "        92,  93,  94,  95,  96,  97,  98,  99, 100])"
            ]
          },
          "metadata": {},
          "execution_count": 125
        }
      ]
    },
    {
      "cell_type": "code",
      "source": [
        "j=1\n",
        "for i in y_train:\n",
        "  print(j,i)\n",
        "  j +=1"
      ],
      "metadata": {
        "colab": {
          "base_uri": "https://localhost:8080/"
        },
        "id": "zJMXBv8PObh6",
        "outputId": "2342ff91-e9e2-4d30-f611-8e0ca6e628b0"
      },
      "execution_count": 126,
      "outputs": [
        {
          "output_type": "stream",
          "name": "stdout",
          "text": [
            "1 [0 0 1 0]\n",
            "2 [0 0 1 0]\n",
            "3 [1 0 0 0]\n",
            "4 [0 0 1 0]\n",
            "5 [0 1 0 0]\n",
            "6 [1 0 0 0]\n",
            "7 [0 0 1 0]\n",
            "8 [0 0 1 0]\n",
            "9 [1 0 0 0]\n",
            "10 [0 1 0 0]\n",
            "11 [0 0 1 0]\n",
            "12 [1 0 0 0]\n",
            "13 [0 0 1 0]\n",
            "14 [0 0 1 0]\n",
            "15 [0 0 0 1]\n",
            "16 [0 0 1 0]\n",
            "17 [0 0 1 0]\n",
            "18 [1 0 0 0]\n",
            "19 [0 0 1 0]\n",
            "20 [0 1 0 0]\n",
            "21 [1 0 0 0]\n",
            "22 [0 0 1 0]\n",
            "23 [0 0 1 0]\n",
            "24 [1 0 0 0]\n",
            "25 [0 1 0 0]\n",
            "26 [0 0 1 0]\n",
            "27 [1 0 0 0]\n",
            "28 [0 0 1 0]\n",
            "29 [0 0 1 0]\n",
            "30 [0 0 0 1]\n",
            "31 [0 0 1 0]\n",
            "32 [0 0 1 0]\n",
            "33 [1 0 0 0]\n",
            "34 [0 0 1 0]\n",
            "35 [0 1 0 0]\n",
            "36 [1 0 0 0]\n",
            "37 [0 0 1 0]\n",
            "38 [0 0 1 0]\n",
            "39 [1 0 0 0]\n",
            "40 [0 1 0 0]\n",
            "41 [0 0 1 0]\n",
            "42 [1 0 0 0]\n",
            "43 [0 0 1 0]\n",
            "44 [0 0 1 0]\n",
            "45 [0 0 0 1]\n",
            "46 [0 0 1 0]\n",
            "47 [0 0 1 0]\n",
            "48 [1 0 0 0]\n",
            "49 [0 0 1 0]\n",
            "50 [0 1 0 0]\n",
            "51 [1 0 0 0]\n",
            "52 [0 0 1 0]\n",
            "53 [0 0 1 0]\n",
            "54 [1 0 0 0]\n",
            "55 [0 1 0 0]\n",
            "56 [0 0 1 0]\n",
            "57 [1 0 0 0]\n",
            "58 [0 0 1 0]\n",
            "59 [0 0 1 0]\n",
            "60 [0 0 0 1]\n",
            "61 [0 0 1 0]\n",
            "62 [0 0 1 0]\n",
            "63 [1 0 0 0]\n",
            "64 [0 0 1 0]\n",
            "65 [0 1 0 0]\n",
            "66 [1 0 0 0]\n",
            "67 [0 0 1 0]\n",
            "68 [0 0 1 0]\n",
            "69 [1 0 0 0]\n",
            "70 [0 1 0 0]\n",
            "71 [0 0 1 0]\n",
            "72 [1 0 0 0]\n",
            "73 [0 0 1 0]\n",
            "74 [0 0 1 0]\n",
            "75 [0 0 0 1]\n",
            "76 [0 0 1 0]\n",
            "77 [0 0 1 0]\n",
            "78 [1 0 0 0]\n",
            "79 [0 0 1 0]\n",
            "80 [0 1 0 0]\n",
            "81 [1 0 0 0]\n",
            "82 [0 0 1 0]\n",
            "83 [0 0 1 0]\n",
            "84 [1 0 0 0]\n",
            "85 [0 1 0 0]\n",
            "86 [0 0 1 0]\n",
            "87 [1 0 0 0]\n",
            "88 [0 0 1 0]\n",
            "89 [0 0 1 0]\n",
            "90 [0 0 0 1]\n",
            "91 [0 0 1 0]\n",
            "92 [0 0 1 0]\n",
            "93 [1 0 0 0]\n",
            "94 [0 0 1 0]\n",
            "95 [0 1 0 0]\n",
            "96 [1 0 0 0]\n",
            "97 [0 0 1 0]\n",
            "98 [0 0 1 0]\n",
            "99 [1 0 0 0]\n",
            "100 [0 1 0 0]\n"
          ]
        }
      ]
    },
    {
      "cell_type": "code",
      "source": [
        "type(X_train)"
      ],
      "metadata": {
        "colab": {
          "base_uri": "https://localhost:8080/"
        },
        "id": "-9Diuh3JdG0-",
        "outputId": "073fd791-2421-4bdf-cbea-b94194134155"
      },
      "execution_count": 127,
      "outputs": [
        {
          "output_type": "execute_result",
          "data": {
            "text/plain": [
              "numpy.ndarray"
            ]
          },
          "metadata": {},
          "execution_count": 127
        }
      ]
    },
    {
      "cell_type": "code",
      "source": [
        "# Define the neural network model\n",
        "model = Sequential()\n",
        "\n",
        "\n",
        "model.add(Dense(32, input_shape=(1,), activation='relu'))\n",
        "model.add(Dense(16, activation='relu'))\n",
        "model.add(Dropout(0.2))\n",
        "\n",
        "model.add(Dense(4, activation='softmax'))"
      ],
      "metadata": {
        "id": "Jrv0lTR3J-7S"
      },
      "execution_count": 128,
      "outputs": []
    },
    {
      "cell_type": "code",
      "source": [
        "# Compile the model\n",
        "model.compile(optimizer='adam', loss='categorical_crossentropy', metrics=['accuracy'])\n"
      ],
      "metadata": {
        "id": "CJJDcj7BJ9Vw"
      },
      "execution_count": 129,
      "outputs": []
    },
    {
      "cell_type": "code",
      "source": [
        "# Train the model\n",
        "model.fit(X_train, y_train, epochs=100, batch_size=16, verbose=0)"
      ],
      "metadata": {
        "colab": {
          "base_uri": "https://localhost:8080/"
        },
        "id": "WYhQHO6gJ8Ro",
        "outputId": "1803a7cb-d07a-48a7-ca39-d2fbecdf5034"
      },
      "execution_count": 130,
      "outputs": [
        {
          "output_type": "execute_result",
          "data": {
            "text/plain": [
              "<keras.src.callbacks.History at 0x793da10c80a0>"
            ]
          },
          "metadata": {},
          "execution_count": 130
        }
      ]
    },
    {
      "cell_type": "code",
      "source": [
        "prediction = model.predict([3])\n",
        "prediction"
      ],
      "metadata": {
        "colab": {
          "base_uri": "https://localhost:8080/"
        },
        "id": "HveTWnWHJ7MR",
        "outputId": "b87a8c5d-b74d-4311-9892-1d00f8644a30"
      },
      "execution_count": 140,
      "outputs": [
        {
          "output_type": "stream",
          "name": "stdout",
          "text": [
            "1/1 [==============================] - 0s 24ms/step\n"
          ]
        },
        {
          "output_type": "execute_result",
          "data": {
            "text/plain": [
              "array([[0.24851517, 0.19476117, 0.41006196, 0.1466617 ]], dtype=float32)"
            ]
          },
          "metadata": {},
          "execution_count": 140
        }
      ]
    },
    {
      "cell_type": "code",
      "source": [
        "y_pred= np.argmax(prediction)\n",
        "y_pred"
      ],
      "metadata": {
        "colab": {
          "base_uri": "https://localhost:8080/"
        },
        "id": "0-l4L6u5Lq8T",
        "outputId": "321955d6-4dc1-42aa-d27b-2e16d33d43a6"
      },
      "execution_count": 141,
      "outputs": [
        {
          "output_type": "execute_result",
          "data": {
            "text/plain": [
              "2"
            ]
          },
          "metadata": {},
          "execution_count": 141
        }
      ]
    },
    {
      "cell_type": "code",
      "execution_count": 134,
      "metadata": {
        "colab": {
          "base_uri": "https://localhost:8080/"
        },
        "id": "ieCFKVO6x65Q",
        "outputId": "6dda2221-ba91-448a-9c20-52e071514010"
      },
      "outputs": [
        {
          "output_type": "stream",
          "name": "stdout",
          "text": [
            "15\n"
          ]
        }
      ],
      "source": [
        "if y_pred == 3:\n",
        "    print('FizzBuzz')\n",
        "elif y_pred == 0:\n",
        "    print('Fizz')\n",
        "elif y_pred == 1:\n",
        "    print('Buzz')\n",
        "else:\n",
        "    print(15)"
      ]
    },
    {
      "cell_type": "code",
      "source": [
        "print(y_train[15])"
      ],
      "metadata": {
        "colab": {
          "base_uri": "https://localhost:8080/"
        },
        "id": "zYUA6N_fMDAb",
        "outputId": "184aba48-8992-4346-ddcf-683b409966a1"
      },
      "execution_count": 135,
      "outputs": [
        {
          "output_type": "stream",
          "name": "stdout",
          "text": [
            "[0 0 1 0]\n"
          ]
        }
      ]
    },
    {
      "cell_type": "code",
      "source": [
        "y_train[15]"
      ],
      "metadata": {
        "colab": {
          "base_uri": "https://localhost:8080/"
        },
        "id": "vyRW2VD2TOHl",
        "outputId": "1c18aad7-b980-4c17-9365-970808a3b6aa"
      },
      "execution_count": 74,
      "outputs": [
        {
          "output_type": "execute_result",
          "data": {
            "text/plain": [
              "array([0, 0, 1, 0])"
            ]
          },
          "metadata": {},
          "execution_count": 74
        }
      ]
    },
    {
      "cell_type": "code",
      "source": [
        "y = np.array([0,0,1])\n",
        "y\n"
      ],
      "metadata": {
        "colab": {
          "base_uri": "https://localhost:8080/"
        },
        "id": "OmhA6qoOYJKO",
        "outputId": "db98a55d-c5e3-489d-8bb9-944589247aad"
      },
      "execution_count": 85,
      "outputs": [
        {
          "output_type": "execute_result",
          "data": {
            "text/plain": [
              "array([0, 0, 1])"
            ]
          },
          "metadata": {},
          "execution_count": 85
        }
      ]
    },
    {
      "cell_type": "code",
      "source": [
        "y_train_one_hot = np.eye(4)[y_train]\n",
        "y_train_one_hot"
      ],
      "metadata": {
        "colab": {
          "base_uri": "https://localhost:8080/"
        },
        "id": "57AMZDciYfMr",
        "outputId": "0dbf76b0-fea7-4f0e-ce54-4e2c37eeb24e"
      },
      "execution_count": 101,
      "outputs": [
        {
          "output_type": "execute_result",
          "data": {
            "text/plain": [
              "array([[[1., 0., 0., 0.],\n",
              "        [1., 0., 0., 0.],\n",
              "        [0., 1., 0., 0.],\n",
              "        [1., 0., 0., 0.]],\n",
              "\n",
              "       [[1., 0., 0., 0.],\n",
              "        [1., 0., 0., 0.],\n",
              "        [0., 1., 0., 0.],\n",
              "        [1., 0., 0., 0.]],\n",
              "\n",
              "       [[0., 1., 0., 0.],\n",
              "        [1., 0., 0., 0.],\n",
              "        [1., 0., 0., 0.],\n",
              "        [1., 0., 0., 0.]],\n",
              "\n",
              "       ...,\n",
              "\n",
              "       [[1., 0., 0., 0.],\n",
              "        [1., 0., 0., 0.],\n",
              "        [0., 1., 0., 0.],\n",
              "        [1., 0., 0., 0.]],\n",
              "\n",
              "       [[0., 1., 0., 0.],\n",
              "        [1., 0., 0., 0.],\n",
              "        [1., 0., 0., 0.],\n",
              "        [1., 0., 0., 0.]],\n",
              "\n",
              "       [[1., 0., 0., 0.],\n",
              "        [0., 1., 0., 0.],\n",
              "        [1., 0., 0., 0.],\n",
              "        [1., 0., 0., 0.]]])"
            ]
          },
          "metadata": {},
          "execution_count": 101
        }
      ]
    },
    {
      "cell_type": "code",
      "source": [],
      "metadata": {
        "id": "5uQqdjcMcHkq"
      },
      "execution_count": null,
      "outputs": []
    }
  ]
}