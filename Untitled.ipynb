{
 "cells": [
  {
   "cell_type": "code",
   "execution_count": 91,
   "id": "5c158afa-51c5-45ad-a831-6b6bcb12ab8c",
   "metadata": {},
   "outputs": [],
   "source": [
    "import pandas as pd"
   ]
  },
  {
   "cell_type": "code",
   "execution_count": 92,
   "id": "786c6cec-a71c-41d9-b5bb-5e8fea449fc6",
   "metadata": {},
   "outputs": [],
   "source": [
    "df = pd.read_csv('data.csv')"
   ]
  },
  {
   "cell_type": "code",
   "execution_count": 93,
   "id": "c95a1c22-7ee6-4187-8eab-2788b40f8bb3",
   "metadata": {},
   "outputs": [
    {
     "data": {
      "text/html": [
       "<div>\n",
       "<style scoped>\n",
       "    .dataframe tbody tr th:only-of-type {\n",
       "        vertical-align: middle;\n",
       "    }\n",
       "\n",
       "    .dataframe tbody tr th {\n",
       "        vertical-align: top;\n",
       "    }\n",
       "\n",
       "    .dataframe thead th {\n",
       "        text-align: right;\n",
       "    }\n",
       "</style>\n",
       "<table border=\"1\" class=\"dataframe\">\n",
       "  <thead>\n",
       "    <tr style=\"text-align: right;\">\n",
       "      <th></th>\n",
       "      <th>Unnamed: 0</th>\n",
       "      <th>input_number</th>\n",
       "      <th>label</th>\n",
       "    </tr>\n",
       "  </thead>\n",
       "  <tbody>\n",
       "    <tr>\n",
       "      <th>0</th>\n",
       "      <td>1</td>\n",
       "      <td>1</td>\n",
       "      <td>Other</td>\n",
       "    </tr>\n",
       "    <tr>\n",
       "      <th>1</th>\n",
       "      <td>2</td>\n",
       "      <td>2</td>\n",
       "      <td>Other</td>\n",
       "    </tr>\n",
       "    <tr>\n",
       "      <th>2</th>\n",
       "      <td>3</td>\n",
       "      <td>3</td>\n",
       "      <td>Fizz</td>\n",
       "    </tr>\n",
       "    <tr>\n",
       "      <th>3</th>\n",
       "      <td>4</td>\n",
       "      <td>4</td>\n",
       "      <td>Other</td>\n",
       "    </tr>\n",
       "    <tr>\n",
       "      <th>4</th>\n",
       "      <td>5</td>\n",
       "      <td>5</td>\n",
       "      <td>Buzz</td>\n",
       "    </tr>\n",
       "  </tbody>\n",
       "</table>\n",
       "</div>"
      ],
      "text/plain": [
       "   Unnamed: 0  input_number  label\n",
       "0           1             1  Other\n",
       "1           2             2  Other\n",
       "2           3             3   Fizz\n",
       "3           4             4  Other\n",
       "4           5             5   Buzz"
      ]
     },
     "execution_count": 93,
     "metadata": {},
     "output_type": "execute_result"
    }
   ],
   "source": [
    "df.head()"
   ]
  },
  {
   "cell_type": "code",
   "execution_count": 94,
   "id": "fb167b7d-bba7-4c72-ac04-4d2982ac486c",
   "metadata": {},
   "outputs": [],
   "source": [
    "df.drop(['Unnamed: 0'],axis=1,inplace=True)"
   ]
  },
  {
   "cell_type": "code",
   "execution_count": 95,
   "id": "7a84e462-2858-4159-a778-a8de524c684e",
   "metadata": {},
   "outputs": [
    {
     "data": {
      "text/html": [
       "<div>\n",
       "<style scoped>\n",
       "    .dataframe tbody tr th:only-of-type {\n",
       "        vertical-align: middle;\n",
       "    }\n",
       "\n",
       "    .dataframe tbody tr th {\n",
       "        vertical-align: top;\n",
       "    }\n",
       "\n",
       "    .dataframe thead th {\n",
       "        text-align: right;\n",
       "    }\n",
       "</style>\n",
       "<table border=\"1\" class=\"dataframe\">\n",
       "  <thead>\n",
       "    <tr style=\"text-align: right;\">\n",
       "      <th></th>\n",
       "      <th>input_number</th>\n",
       "      <th>label</th>\n",
       "    </tr>\n",
       "  </thead>\n",
       "  <tbody>\n",
       "    <tr>\n",
       "      <th>0</th>\n",
       "      <td>1</td>\n",
       "      <td>Other</td>\n",
       "    </tr>\n",
       "    <tr>\n",
       "      <th>1</th>\n",
       "      <td>2</td>\n",
       "      <td>Other</td>\n",
       "    </tr>\n",
       "    <tr>\n",
       "      <th>2</th>\n",
       "      <td>3</td>\n",
       "      <td>Fizz</td>\n",
       "    </tr>\n",
       "    <tr>\n",
       "      <th>3</th>\n",
       "      <td>4</td>\n",
       "      <td>Other</td>\n",
       "    </tr>\n",
       "    <tr>\n",
       "      <th>4</th>\n",
       "      <td>5</td>\n",
       "      <td>Buzz</td>\n",
       "    </tr>\n",
       "  </tbody>\n",
       "</table>\n",
       "</div>"
      ],
      "text/plain": [
       "   input_number  label\n",
       "0             1  Other\n",
       "1             2  Other\n",
       "2             3   Fizz\n",
       "3             4  Other\n",
       "4             5   Buzz"
      ]
     },
     "execution_count": 95,
     "metadata": {},
     "output_type": "execute_result"
    }
   ],
   "source": [
    "df.head()"
   ]
  },
  {
   "cell_type": "code",
   "execution_count": 96,
   "id": "cab1c8b6-dbcc-4e98-850e-835d3a12f390",
   "metadata": {},
   "outputs": [
    {
     "data": {
      "text/plain": [
       "Other       533\n",
       "Fizz        267\n",
       "Buzz        134\n",
       "FizzBuzz     66\n",
       "Name: label, dtype: int64"
      ]
     },
     "execution_count": 96,
     "metadata": {},
     "output_type": "execute_result"
    }
   ],
   "source": [
    "df['label'].value_counts()"
   ]
  },
  {
   "cell_type": "code",
   "execution_count": 108,
   "id": "b812300d-ef34-4cf1-ba12-a92ac2837ce7",
   "metadata": {},
   "outputs": [],
   "source": [
    "other = df[df.label == \"Other\"]\n",
    "fizz = df[df.label == \"Fizz\"]\n",
    "buzz = df[df.label == \"Buzz\"]\n",
    "fizzbuzz = df[df.label == \"FizzBuzz\"]"
   ]
  },
  {
   "cell_type": "code",
   "execution_count": 110,
   "id": "d1a8f787-503c-4ff5-a04b-dc28672e76bc",
   "metadata": {},
   "outputs": [
    {
     "name": "stdout",
     "output_type": "stream",
     "text": [
      "(533, 2)\n",
      "(267, 2)\n",
      "(134, 2)\n",
      "(66, 2)\n"
     ]
    }
   ],
   "source": [
    "print(other.shape)\n",
    "print(fizz.shape)\n",
    "print(buzz.shape)\n",
    "print(fizzbuzz.shape)"
   ]
  },
  {
   "cell_type": "code",
   "execution_count": 111,
   "id": "747973f5-8c3d-4f8c-a5e0-936bece30056",
   "metadata": {},
   "outputs": [],
   "source": [
    "other_sample = other.sample(n=66)\n",
    "fizz_sample = fizz.sample(n=66)\n",
    "buzz_sample = buzz.sample(n=66)"
   ]
  },
  {
   "cell_type": "code",
   "execution_count": 112,
   "id": "3ac91cad-f18f-465b-81bb-e2db2aa95690",
   "metadata": {},
   "outputs": [
    {
     "name": "stdout",
     "output_type": "stream",
     "text": [
      "(66, 2)\n",
      "(66, 2)\n",
      "(66, 2)\n"
     ]
    }
   ],
   "source": [
    "print(other_sample.shape)\n",
    "print(fizz_sample.shape)\n",
    "print(buzz_sample.shape)"
   ]
  },
  {
   "cell_type": "code",
   "execution_count": 120,
   "id": "7c1faea7-c0fa-4b64-905c-948bd8ac4442",
   "metadata": {},
   "outputs": [
    {
     "data": {
      "text/html": [
       "<div>\n",
       "<style scoped>\n",
       "    .dataframe tbody tr th:only-of-type {\n",
       "        vertical-align: middle;\n",
       "    }\n",
       "\n",
       "    .dataframe tbody tr th {\n",
       "        vertical-align: top;\n",
       "    }\n",
       "\n",
       "    .dataframe thead th {\n",
       "        text-align: right;\n",
       "    }\n",
       "</style>\n",
       "<table border=\"1\" class=\"dataframe\">\n",
       "  <thead>\n",
       "    <tr style=\"text-align: right;\">\n",
       "      <th></th>\n",
       "      <th>input_number</th>\n",
       "      <th>label</th>\n",
       "    </tr>\n",
       "  </thead>\n",
       "  <tbody>\n",
       "    <tr>\n",
       "      <th>835</th>\n",
       "      <td>836</td>\n",
       "      <td>Other</td>\n",
       "    </tr>\n",
       "    <tr>\n",
       "      <th>738</th>\n",
       "      <td>739</td>\n",
       "      <td>Other</td>\n",
       "    </tr>\n",
       "    <tr>\n",
       "      <th>342</th>\n",
       "      <td>343</td>\n",
       "      <td>Other</td>\n",
       "    </tr>\n",
       "    <tr>\n",
       "      <th>513</th>\n",
       "      <td>514</td>\n",
       "      <td>Other</td>\n",
       "    </tr>\n",
       "    <tr>\n",
       "      <th>172</th>\n",
       "      <td>173</td>\n",
       "      <td>Other</td>\n",
       "    </tr>\n",
       "  </tbody>\n",
       "</table>\n",
       "</div>"
      ],
      "text/plain": [
       "     input_number  label\n",
       "835           836  Other\n",
       "738           739  Other\n",
       "342           343  Other\n",
       "513           514  Other\n",
       "172           173  Other"
      ]
     },
     "execution_count": 120,
     "metadata": {},
     "output_type": "execute_result"
    }
   ],
   "source": [
    "new_df = pd.concat([other_sample, fizz_sample, buzz_sample, fizzbuzz], axis = 0)\n",
    "new_df.head()"
   ]
  },
  {
   "cell_type": "code",
   "execution_count": 121,
   "id": "11d0bf44-86db-405a-b70f-749216b49c08",
   "metadata": {},
   "outputs": [
    {
     "data": {
      "text/plain": [
       "Other       66\n",
       "Fizz        66\n",
       "Buzz        66\n",
       "FizzBuzz    66\n",
       "Name: label, dtype: int64"
      ]
     },
     "execution_count": 121,
     "metadata": {},
     "output_type": "execute_result"
    }
   ],
   "source": [
    "new_df['label'].value_counts()"
   ]
  },
  {
   "cell_type": "code",
   "execution_count": 122,
   "id": "1e3f2fce-015f-43dd-9ebe-4b17fcf9ba18",
   "metadata": {},
   "outputs": [
    {
     "data": {
      "text/html": [
       "<div>\n",
       "<style scoped>\n",
       "    .dataframe tbody tr th:only-of-type {\n",
       "        vertical-align: middle;\n",
       "    }\n",
       "\n",
       "    .dataframe tbody tr th {\n",
       "        vertical-align: top;\n",
       "    }\n",
       "\n",
       "    .dataframe thead th {\n",
       "        text-align: right;\n",
       "    }\n",
       "</style>\n",
       "<table border=\"1\" class=\"dataframe\">\n",
       "  <thead>\n",
       "    <tr style=\"text-align: right;\">\n",
       "      <th></th>\n",
       "      <th>input_number</th>\n",
       "      <th>label</th>\n",
       "    </tr>\n",
       "  </thead>\n",
       "  <tbody>\n",
       "    <tr>\n",
       "      <th>929</th>\n",
       "      <td>930</td>\n",
       "      <td>FizzBuzz</td>\n",
       "    </tr>\n",
       "    <tr>\n",
       "      <th>944</th>\n",
       "      <td>945</td>\n",
       "      <td>FizzBuzz</td>\n",
       "    </tr>\n",
       "    <tr>\n",
       "      <th>959</th>\n",
       "      <td>960</td>\n",
       "      <td>FizzBuzz</td>\n",
       "    </tr>\n",
       "    <tr>\n",
       "      <th>974</th>\n",
       "      <td>975</td>\n",
       "      <td>FizzBuzz</td>\n",
       "    </tr>\n",
       "    <tr>\n",
       "      <th>989</th>\n",
       "      <td>990</td>\n",
       "      <td>FizzBuzz</td>\n",
       "    </tr>\n",
       "  </tbody>\n",
       "</table>\n",
       "</div>"
      ],
      "text/plain": [
       "     input_number     label\n",
       "929           930  FizzBuzz\n",
       "944           945  FizzBuzz\n",
       "959           960  FizzBuzz\n",
       "974           975  FizzBuzz\n",
       "989           990  FizzBuzz"
      ]
     },
     "execution_count": 122,
     "metadata": {},
     "output_type": "execute_result"
    }
   ],
   "source": [
    "new_df.tail()"
   ]
  },
  {
   "cell_type": "code",
   "execution_count": 123,
   "id": "ba9e7eb6-e1e4-4a4e-a08c-225df4eb0ec3",
   "metadata": {},
   "outputs": [],
   "source": [
    "X = new_df[['input_number']]\n",
    "y = new_df['label']"
   ]
  },
  {
   "cell_type": "code",
   "execution_count": 124,
   "id": "a9497bad-adc8-46ba-92c6-a4394f6d749c",
   "metadata": {},
   "outputs": [
    {
     "data": {
      "text/plain": [
       "pandas.core.frame.DataFrame"
      ]
     },
     "execution_count": 124,
     "metadata": {},
     "output_type": "execute_result"
    }
   ],
   "source": [
    "type(X)"
   ]
  },
  {
   "cell_type": "code",
   "execution_count": 125,
   "id": "68bdc640-9d7a-4084-95e5-d9b15a1c80df",
   "metadata": {},
   "outputs": [
    {
     "data": {
      "text/plain": [
       "pandas.core.series.Series"
      ]
     },
     "execution_count": 125,
     "metadata": {},
     "output_type": "execute_result"
    }
   ],
   "source": [
    "type(y)"
   ]
  },
  {
   "cell_type": "code",
   "execution_count": 126,
   "id": "5835f864-6402-49cc-a587-022183619f20",
   "metadata": {},
   "outputs": [
    {
     "data": {
      "text/plain": [
       "array(['Other', 'Fizz', 'Buzz', 'FizzBuzz'], dtype=object)"
      ]
     },
     "execution_count": 126,
     "metadata": {},
     "output_type": "execute_result"
    }
   ],
   "source": [
    "y.unique()"
   ]
  },
  {
   "cell_type": "code",
   "execution_count": 127,
   "id": "5af0b1ef-085e-45e6-a5a1-841207ccb1ae",
   "metadata": {},
   "outputs": [],
   "source": [
    "from sklearn.preprocessing import LabelEncoder\n",
    "label_encoder = LabelEncoder()"
   ]
  },
  {
   "cell_type": "code",
   "execution_count": 128,
   "id": "7a07c4c7-a80a-4142-9783-30357e9d82d3",
   "metadata": {},
   "outputs": [
    {
     "data": {
      "text/html": [
       "<style>#sk-container-id-13 {color: black;background-color: white;}#sk-container-id-13 pre{padding: 0;}#sk-container-id-13 div.sk-toggleable {background-color: white;}#sk-container-id-13 label.sk-toggleable__label {cursor: pointer;display: block;width: 100%;margin-bottom: 0;padding: 0.3em;box-sizing: border-box;text-align: center;}#sk-container-id-13 label.sk-toggleable__label-arrow:before {content: \"▸\";float: left;margin-right: 0.25em;color: #696969;}#sk-container-id-13 label.sk-toggleable__label-arrow:hover:before {color: black;}#sk-container-id-13 div.sk-estimator:hover label.sk-toggleable__label-arrow:before {color: black;}#sk-container-id-13 div.sk-toggleable__content {max-height: 0;max-width: 0;overflow: hidden;text-align: left;background-color: #f0f8ff;}#sk-container-id-13 div.sk-toggleable__content pre {margin: 0.2em;color: black;border-radius: 0.25em;background-color: #f0f8ff;}#sk-container-id-13 input.sk-toggleable__control:checked~div.sk-toggleable__content {max-height: 200px;max-width: 100%;overflow: auto;}#sk-container-id-13 input.sk-toggleable__control:checked~label.sk-toggleable__label-arrow:before {content: \"▾\";}#sk-container-id-13 div.sk-estimator input.sk-toggleable__control:checked~label.sk-toggleable__label {background-color: #d4ebff;}#sk-container-id-13 div.sk-label input.sk-toggleable__control:checked~label.sk-toggleable__label {background-color: #d4ebff;}#sk-container-id-13 input.sk-hidden--visually {border: 0;clip: rect(1px 1px 1px 1px);clip: rect(1px, 1px, 1px, 1px);height: 1px;margin: -1px;overflow: hidden;padding: 0;position: absolute;width: 1px;}#sk-container-id-13 div.sk-estimator {font-family: monospace;background-color: #f0f8ff;border: 1px dotted black;border-radius: 0.25em;box-sizing: border-box;margin-bottom: 0.5em;}#sk-container-id-13 div.sk-estimator:hover {background-color: #d4ebff;}#sk-container-id-13 div.sk-parallel-item::after {content: \"\";width: 100%;border-bottom: 1px solid gray;flex-grow: 1;}#sk-container-id-13 div.sk-label:hover label.sk-toggleable__label {background-color: #d4ebff;}#sk-container-id-13 div.sk-serial::before {content: \"\";position: absolute;border-left: 1px solid gray;box-sizing: border-box;top: 0;bottom: 0;left: 50%;z-index: 0;}#sk-container-id-13 div.sk-serial {display: flex;flex-direction: column;align-items: center;background-color: white;padding-right: 0.2em;padding-left: 0.2em;position: relative;}#sk-container-id-13 div.sk-item {position: relative;z-index: 1;}#sk-container-id-13 div.sk-parallel {display: flex;align-items: stretch;justify-content: center;background-color: white;position: relative;}#sk-container-id-13 div.sk-item::before, #sk-container-id-13 div.sk-parallel-item::before {content: \"\";position: absolute;border-left: 1px solid gray;box-sizing: border-box;top: 0;bottom: 0;left: 50%;z-index: -1;}#sk-container-id-13 div.sk-parallel-item {display: flex;flex-direction: column;z-index: 1;position: relative;background-color: white;}#sk-container-id-13 div.sk-parallel-item:first-child::after {align-self: flex-end;width: 50%;}#sk-container-id-13 div.sk-parallel-item:last-child::after {align-self: flex-start;width: 50%;}#sk-container-id-13 div.sk-parallel-item:only-child::after {width: 0;}#sk-container-id-13 div.sk-dashed-wrapped {border: 1px dashed gray;margin: 0 0.4em 0.5em 0.4em;box-sizing: border-box;padding-bottom: 0.4em;background-color: white;}#sk-container-id-13 div.sk-label label {font-family: monospace;font-weight: bold;display: inline-block;line-height: 1.2em;}#sk-container-id-13 div.sk-label-container {text-align: center;}#sk-container-id-13 div.sk-container {/* jupyter's `normalize.less` sets `[hidden] { display: none; }` but bootstrap.min.css set `[hidden] { display: none !important; }` so we also need the `!important` here to be able to override the default hidden behavior on the sphinx rendered scikit-learn.org. See: https://github.com/scikit-learn/scikit-learn/issues/21755 */display: inline-block !important;position: relative;}#sk-container-id-13 div.sk-text-repr-fallback {display: none;}</style><div id=\"sk-container-id-13\" class=\"sk-top-container\"><div class=\"sk-text-repr-fallback\"><pre>LabelEncoder()</pre><b>In a Jupyter environment, please rerun this cell to show the HTML representation or trust the notebook. <br />On GitHub, the HTML representation is unable to render, please try loading this page with nbviewer.org.</b></div><div class=\"sk-container\" hidden><div class=\"sk-item\"><div class=\"sk-estimator sk-toggleable\"><input class=\"sk-toggleable__control sk-hidden--visually\" id=\"sk-estimator-id-13\" type=\"checkbox\" checked><label for=\"sk-estimator-id-13\" class=\"sk-toggleable__label sk-toggleable__label-arrow\">LabelEncoder</label><div class=\"sk-toggleable__content\"><pre>LabelEncoder()</pre></div></div></div></div></div>"
      ],
      "text/plain": [
       "LabelEncoder()"
      ]
     },
     "execution_count": 128,
     "metadata": {},
     "output_type": "execute_result"
    }
   ],
   "source": [
    "label_encoder.fit(y)"
   ]
  },
  {
   "cell_type": "code",
   "execution_count": 129,
   "id": "6c8430e6-5c86-48fe-8910-c14d85aad307",
   "metadata": {},
   "outputs": [
    {
     "data": {
      "text/plain": [
       "array([3, 3, 3, 3, 3, 3, 3, 3, 3, 3, 3, 3, 3, 3, 3, 3, 3, 3, 3, 3, 3, 3,\n",
       "       3, 3, 3, 3, 3, 3, 3, 3, 3, 3, 3, 3, 3, 3, 3, 3, 3, 3, 3, 3, 3, 3,\n",
       "       3, 3, 3, 3, 3, 3, 3, 3, 3, 3, 3, 3, 3, 3, 3, 3, 3, 3, 3, 3, 3, 3,\n",
       "       1, 1, 1, 1, 1, 1, 1, 1, 1, 1, 1, 1, 1, 1, 1, 1, 1, 1, 1, 1, 1, 1,\n",
       "       1, 1, 1, 1, 1, 1, 1, 1, 1, 1, 1, 1, 1, 1, 1, 1, 1, 1, 1, 1, 1, 1,\n",
       "       1, 1, 1, 1, 1, 1, 1, 1, 1, 1, 1, 1, 1, 1, 1, 1, 1, 1, 1, 1, 1, 1,\n",
       "       0, 0, 0, 0, 0, 0, 0, 0, 0, 0, 0, 0, 0, 0, 0, 0, 0, 0, 0, 0, 0, 0,\n",
       "       0, 0, 0, 0, 0, 0, 0, 0, 0, 0, 0, 0, 0, 0, 0, 0, 0, 0, 0, 0, 0, 0,\n",
       "       0, 0, 0, 0, 0, 0, 0, 0, 0, 0, 0, 0, 0, 0, 0, 0, 0, 0, 0, 0, 0, 0,\n",
       "       2, 2, 2, 2, 2, 2, 2, 2, 2, 2, 2, 2, 2, 2, 2, 2, 2, 2, 2, 2, 2, 2,\n",
       "       2, 2, 2, 2, 2, 2, 2, 2, 2, 2, 2, 2, 2, 2, 2, 2, 2, 2, 2, 2, 2, 2,\n",
       "       2, 2, 2, 2, 2, 2, 2, 2, 2, 2, 2, 2, 2, 2, 2, 2, 2, 2, 2, 2, 2, 2])"
      ]
     },
     "execution_count": 129,
     "metadata": {},
     "output_type": "execute_result"
    }
   ],
   "source": [
    "encoded_y = label_encoder.transform(y)\n",
    "encoded_y"
   ]
  },
  {
   "cell_type": "code",
   "execution_count": 130,
   "id": "c01d6051-922f-437f-aedb-5150ebed523d",
   "metadata": {},
   "outputs": [
    {
     "data": {
      "text/plain": [
       "array(['Other', 'Other', 'Other', 'Other', 'Other', 'Other', 'Other',\n",
       "       'Other', 'Other', 'Other', 'Other', 'Other', 'Other', 'Other',\n",
       "       'Other', 'Other', 'Other', 'Other', 'Other', 'Other', 'Other',\n",
       "       'Other', 'Other', 'Other', 'Other', 'Other', 'Other', 'Other',\n",
       "       'Other', 'Other', 'Other', 'Other', 'Other', 'Other', 'Other',\n",
       "       'Other', 'Other', 'Other', 'Other', 'Other', 'Other', 'Other',\n",
       "       'Other', 'Other', 'Other', 'Other', 'Other', 'Other', 'Other',\n",
       "       'Other', 'Other', 'Other', 'Other', 'Other', 'Other', 'Other',\n",
       "       'Other', 'Other', 'Other', 'Other', 'Other', 'Other', 'Other',\n",
       "       'Other', 'Other', 'Other', 'Fizz', 'Fizz', 'Fizz', 'Fizz', 'Fizz',\n",
       "       'Fizz', 'Fizz', 'Fizz', 'Fizz', 'Fizz', 'Fizz', 'Fizz', 'Fizz',\n",
       "       'Fizz', 'Fizz', 'Fizz', 'Fizz', 'Fizz', 'Fizz', 'Fizz', 'Fizz',\n",
       "       'Fizz', 'Fizz', 'Fizz', 'Fizz', 'Fizz', 'Fizz', 'Fizz', 'Fizz',\n",
       "       'Fizz', 'Fizz', 'Fizz', 'Fizz', 'Fizz', 'Fizz', 'Fizz', 'Fizz',\n",
       "       'Fizz', 'Fizz', 'Fizz', 'Fizz', 'Fizz', 'Fizz', 'Fizz', 'Fizz',\n",
       "       'Fizz', 'Fizz', 'Fizz', 'Fizz', 'Fizz', 'Fizz', 'Fizz', 'Fizz',\n",
       "       'Fizz', 'Fizz', 'Fizz', 'Fizz', 'Fizz', 'Fizz', 'Fizz', 'Fizz',\n",
       "       'Fizz', 'Fizz', 'Fizz', 'Fizz', 'Fizz', 'Buzz', 'Buzz', 'Buzz',\n",
       "       'Buzz', 'Buzz', 'Buzz', 'Buzz', 'Buzz', 'Buzz', 'Buzz', 'Buzz',\n",
       "       'Buzz', 'Buzz', 'Buzz', 'Buzz', 'Buzz', 'Buzz', 'Buzz', 'Buzz',\n",
       "       'Buzz', 'Buzz', 'Buzz', 'Buzz', 'Buzz', 'Buzz', 'Buzz', 'Buzz',\n",
       "       'Buzz', 'Buzz', 'Buzz', 'Buzz', 'Buzz', 'Buzz', 'Buzz', 'Buzz',\n",
       "       'Buzz', 'Buzz', 'Buzz', 'Buzz', 'Buzz', 'Buzz', 'Buzz', 'Buzz',\n",
       "       'Buzz', 'Buzz', 'Buzz', 'Buzz', 'Buzz', 'Buzz', 'Buzz', 'Buzz',\n",
       "       'Buzz', 'Buzz', 'Buzz', 'Buzz', 'Buzz', 'Buzz', 'Buzz', 'Buzz',\n",
       "       'Buzz', 'Buzz', 'Buzz', 'Buzz', 'Buzz', 'Buzz', 'Buzz', 'FizzBuzz',\n",
       "       'FizzBuzz', 'FizzBuzz', 'FizzBuzz', 'FizzBuzz', 'FizzBuzz',\n",
       "       'FizzBuzz', 'FizzBuzz', 'FizzBuzz', 'FizzBuzz', 'FizzBuzz',\n",
       "       'FizzBuzz', 'FizzBuzz', 'FizzBuzz', 'FizzBuzz', 'FizzBuzz',\n",
       "       'FizzBuzz', 'FizzBuzz', 'FizzBuzz', 'FizzBuzz', 'FizzBuzz',\n",
       "       'FizzBuzz', 'FizzBuzz', 'FizzBuzz', 'FizzBuzz', 'FizzBuzz',\n",
       "       'FizzBuzz', 'FizzBuzz', 'FizzBuzz', 'FizzBuzz', 'FizzBuzz',\n",
       "       'FizzBuzz', 'FizzBuzz', 'FizzBuzz', 'FizzBuzz', 'FizzBuzz',\n",
       "       'FizzBuzz', 'FizzBuzz', 'FizzBuzz', 'FizzBuzz', 'FizzBuzz',\n",
       "       'FizzBuzz', 'FizzBuzz', 'FizzBuzz', 'FizzBuzz', 'FizzBuzz',\n",
       "       'FizzBuzz', 'FizzBuzz', 'FizzBuzz', 'FizzBuzz', 'FizzBuzz',\n",
       "       'FizzBuzz', 'FizzBuzz', 'FizzBuzz', 'FizzBuzz', 'FizzBuzz',\n",
       "       'FizzBuzz', 'FizzBuzz', 'FizzBuzz', 'FizzBuzz', 'FizzBuzz',\n",
       "       'FizzBuzz', 'FizzBuzz', 'FizzBuzz', 'FizzBuzz', 'FizzBuzz'],\n",
       "      dtype=object)"
      ]
     },
     "execution_count": 130,
     "metadata": {},
     "output_type": "execute_result"
    }
   ],
   "source": [
    "label_encoder.inverse_transform(encoded_y)"
   ]
  },
  {
   "cell_type": "code",
   "execution_count": 131,
   "id": "66443ba0-ad69-49ab-87bf-183a5cfa9d3c",
   "metadata": {},
   "outputs": [],
   "source": [
    "from sklearn.model_selection import train_test_split\n",
    "\n",
    "x_train, x_test, y_train, y_test = train_test_split(X, encoded_y, test_size=0.2, random_state=42, stratify=y)"
   ]
  },
  {
   "cell_type": "code",
   "execution_count": 132,
   "id": "50e3e626-3dfe-460c-b728-9850e6f1506d",
   "metadata": {},
   "outputs": [],
   "source": [
    "from sklearn.linear_model import LogisticRegression\n",
    "\n",
    "model_lr=LogisticRegression()"
   ]
  },
  {
   "cell_type": "code",
   "execution_count": 133,
   "id": "15849853-36d2-4b23-9c8d-7ce30918af59",
   "metadata": {},
   "outputs": [
    {
     "data": {
      "text/html": [
       "<style>#sk-container-id-14 {color: black;background-color: white;}#sk-container-id-14 pre{padding: 0;}#sk-container-id-14 div.sk-toggleable {background-color: white;}#sk-container-id-14 label.sk-toggleable__label {cursor: pointer;display: block;width: 100%;margin-bottom: 0;padding: 0.3em;box-sizing: border-box;text-align: center;}#sk-container-id-14 label.sk-toggleable__label-arrow:before {content: \"▸\";float: left;margin-right: 0.25em;color: #696969;}#sk-container-id-14 label.sk-toggleable__label-arrow:hover:before {color: black;}#sk-container-id-14 div.sk-estimator:hover label.sk-toggleable__label-arrow:before {color: black;}#sk-container-id-14 div.sk-toggleable__content {max-height: 0;max-width: 0;overflow: hidden;text-align: left;background-color: #f0f8ff;}#sk-container-id-14 div.sk-toggleable__content pre {margin: 0.2em;color: black;border-radius: 0.25em;background-color: #f0f8ff;}#sk-container-id-14 input.sk-toggleable__control:checked~div.sk-toggleable__content {max-height: 200px;max-width: 100%;overflow: auto;}#sk-container-id-14 input.sk-toggleable__control:checked~label.sk-toggleable__label-arrow:before {content: \"▾\";}#sk-container-id-14 div.sk-estimator input.sk-toggleable__control:checked~label.sk-toggleable__label {background-color: #d4ebff;}#sk-container-id-14 div.sk-label input.sk-toggleable__control:checked~label.sk-toggleable__label {background-color: #d4ebff;}#sk-container-id-14 input.sk-hidden--visually {border: 0;clip: rect(1px 1px 1px 1px);clip: rect(1px, 1px, 1px, 1px);height: 1px;margin: -1px;overflow: hidden;padding: 0;position: absolute;width: 1px;}#sk-container-id-14 div.sk-estimator {font-family: monospace;background-color: #f0f8ff;border: 1px dotted black;border-radius: 0.25em;box-sizing: border-box;margin-bottom: 0.5em;}#sk-container-id-14 div.sk-estimator:hover {background-color: #d4ebff;}#sk-container-id-14 div.sk-parallel-item::after {content: \"\";width: 100%;border-bottom: 1px solid gray;flex-grow: 1;}#sk-container-id-14 div.sk-label:hover label.sk-toggleable__label {background-color: #d4ebff;}#sk-container-id-14 div.sk-serial::before {content: \"\";position: absolute;border-left: 1px solid gray;box-sizing: border-box;top: 0;bottom: 0;left: 50%;z-index: 0;}#sk-container-id-14 div.sk-serial {display: flex;flex-direction: column;align-items: center;background-color: white;padding-right: 0.2em;padding-left: 0.2em;position: relative;}#sk-container-id-14 div.sk-item {position: relative;z-index: 1;}#sk-container-id-14 div.sk-parallel {display: flex;align-items: stretch;justify-content: center;background-color: white;position: relative;}#sk-container-id-14 div.sk-item::before, #sk-container-id-14 div.sk-parallel-item::before {content: \"\";position: absolute;border-left: 1px solid gray;box-sizing: border-box;top: 0;bottom: 0;left: 50%;z-index: -1;}#sk-container-id-14 div.sk-parallel-item {display: flex;flex-direction: column;z-index: 1;position: relative;background-color: white;}#sk-container-id-14 div.sk-parallel-item:first-child::after {align-self: flex-end;width: 50%;}#sk-container-id-14 div.sk-parallel-item:last-child::after {align-self: flex-start;width: 50%;}#sk-container-id-14 div.sk-parallel-item:only-child::after {width: 0;}#sk-container-id-14 div.sk-dashed-wrapped {border: 1px dashed gray;margin: 0 0.4em 0.5em 0.4em;box-sizing: border-box;padding-bottom: 0.4em;background-color: white;}#sk-container-id-14 div.sk-label label {font-family: monospace;font-weight: bold;display: inline-block;line-height: 1.2em;}#sk-container-id-14 div.sk-label-container {text-align: center;}#sk-container-id-14 div.sk-container {/* jupyter's `normalize.less` sets `[hidden] { display: none; }` but bootstrap.min.css set `[hidden] { display: none !important; }` so we also need the `!important` here to be able to override the default hidden behavior on the sphinx rendered scikit-learn.org. See: https://github.com/scikit-learn/scikit-learn/issues/21755 */display: inline-block !important;position: relative;}#sk-container-id-14 div.sk-text-repr-fallback {display: none;}</style><div id=\"sk-container-id-14\" class=\"sk-top-container\"><div class=\"sk-text-repr-fallback\"><pre>LogisticRegression()</pre><b>In a Jupyter environment, please rerun this cell to show the HTML representation or trust the notebook. <br />On GitHub, the HTML representation is unable to render, please try loading this page with nbviewer.org.</b></div><div class=\"sk-container\" hidden><div class=\"sk-item\"><div class=\"sk-estimator sk-toggleable\"><input class=\"sk-toggleable__control sk-hidden--visually\" id=\"sk-estimator-id-14\" type=\"checkbox\" checked><label for=\"sk-estimator-id-14\" class=\"sk-toggleable__label sk-toggleable__label-arrow\">LogisticRegression</label><div class=\"sk-toggleable__content\"><pre>LogisticRegression()</pre></div></div></div></div></div>"
      ],
      "text/plain": [
       "LogisticRegression()"
      ]
     },
     "execution_count": 133,
     "metadata": {},
     "output_type": "execute_result"
    }
   ],
   "source": [
    "model_lr.fit(x_train,y_train)"
   ]
  },
  {
   "cell_type": "code",
   "execution_count": 134,
   "id": "c711152d-4142-4ee1-9573-647c3235d3a6",
   "metadata": {},
   "outputs": [],
   "source": [
    "y_pred = model_lr.predict(x_test)"
   ]
  },
  {
   "cell_type": "code",
   "execution_count": 135,
   "id": "1adc80d7-e274-40bb-83df-60376cf015fb",
   "metadata": {},
   "outputs": [
    {
     "data": {
      "text/plain": [
       "0.24528301886792453"
      ]
     },
     "execution_count": 135,
     "metadata": {},
     "output_type": "execute_result"
    }
   ],
   "source": [
    "from sklearn.metrics import accuracy_score\n",
    "\n",
    "score = accuracy_score(y_pred, y_test)\n",
    "score"
   ]
  },
  {
   "cell_type": "code",
   "execution_count": 136,
   "id": "2ec42461-5903-4b47-a220-c37624f4b68b",
   "metadata": {},
   "outputs": [],
   "source": [
    "from sklearn.svm import SVC\n",
    "model_svm = SVC()"
   ]
  },
  {
   "cell_type": "code",
   "execution_count": 137,
   "id": "96b593b1-5f2f-47da-b9d4-6dc7339236ff",
   "metadata": {},
   "outputs": [
    {
     "data": {
      "text/html": [
       "<style>#sk-container-id-15 {color: black;background-color: white;}#sk-container-id-15 pre{padding: 0;}#sk-container-id-15 div.sk-toggleable {background-color: white;}#sk-container-id-15 label.sk-toggleable__label {cursor: pointer;display: block;width: 100%;margin-bottom: 0;padding: 0.3em;box-sizing: border-box;text-align: center;}#sk-container-id-15 label.sk-toggleable__label-arrow:before {content: \"▸\";float: left;margin-right: 0.25em;color: #696969;}#sk-container-id-15 label.sk-toggleable__label-arrow:hover:before {color: black;}#sk-container-id-15 div.sk-estimator:hover label.sk-toggleable__label-arrow:before {color: black;}#sk-container-id-15 div.sk-toggleable__content {max-height: 0;max-width: 0;overflow: hidden;text-align: left;background-color: #f0f8ff;}#sk-container-id-15 div.sk-toggleable__content pre {margin: 0.2em;color: black;border-radius: 0.25em;background-color: #f0f8ff;}#sk-container-id-15 input.sk-toggleable__control:checked~div.sk-toggleable__content {max-height: 200px;max-width: 100%;overflow: auto;}#sk-container-id-15 input.sk-toggleable__control:checked~label.sk-toggleable__label-arrow:before {content: \"▾\";}#sk-container-id-15 div.sk-estimator input.sk-toggleable__control:checked~label.sk-toggleable__label {background-color: #d4ebff;}#sk-container-id-15 div.sk-label input.sk-toggleable__control:checked~label.sk-toggleable__label {background-color: #d4ebff;}#sk-container-id-15 input.sk-hidden--visually {border: 0;clip: rect(1px 1px 1px 1px);clip: rect(1px, 1px, 1px, 1px);height: 1px;margin: -1px;overflow: hidden;padding: 0;position: absolute;width: 1px;}#sk-container-id-15 div.sk-estimator {font-family: monospace;background-color: #f0f8ff;border: 1px dotted black;border-radius: 0.25em;box-sizing: border-box;margin-bottom: 0.5em;}#sk-container-id-15 div.sk-estimator:hover {background-color: #d4ebff;}#sk-container-id-15 div.sk-parallel-item::after {content: \"\";width: 100%;border-bottom: 1px solid gray;flex-grow: 1;}#sk-container-id-15 div.sk-label:hover label.sk-toggleable__label {background-color: #d4ebff;}#sk-container-id-15 div.sk-serial::before {content: \"\";position: absolute;border-left: 1px solid gray;box-sizing: border-box;top: 0;bottom: 0;left: 50%;z-index: 0;}#sk-container-id-15 div.sk-serial {display: flex;flex-direction: column;align-items: center;background-color: white;padding-right: 0.2em;padding-left: 0.2em;position: relative;}#sk-container-id-15 div.sk-item {position: relative;z-index: 1;}#sk-container-id-15 div.sk-parallel {display: flex;align-items: stretch;justify-content: center;background-color: white;position: relative;}#sk-container-id-15 div.sk-item::before, #sk-container-id-15 div.sk-parallel-item::before {content: \"\";position: absolute;border-left: 1px solid gray;box-sizing: border-box;top: 0;bottom: 0;left: 50%;z-index: -1;}#sk-container-id-15 div.sk-parallel-item {display: flex;flex-direction: column;z-index: 1;position: relative;background-color: white;}#sk-container-id-15 div.sk-parallel-item:first-child::after {align-self: flex-end;width: 50%;}#sk-container-id-15 div.sk-parallel-item:last-child::after {align-self: flex-start;width: 50%;}#sk-container-id-15 div.sk-parallel-item:only-child::after {width: 0;}#sk-container-id-15 div.sk-dashed-wrapped {border: 1px dashed gray;margin: 0 0.4em 0.5em 0.4em;box-sizing: border-box;padding-bottom: 0.4em;background-color: white;}#sk-container-id-15 div.sk-label label {font-family: monospace;font-weight: bold;display: inline-block;line-height: 1.2em;}#sk-container-id-15 div.sk-label-container {text-align: center;}#sk-container-id-15 div.sk-container {/* jupyter's `normalize.less` sets `[hidden] { display: none; }` but bootstrap.min.css set `[hidden] { display: none !important; }` so we also need the `!important` here to be able to override the default hidden behavior on the sphinx rendered scikit-learn.org. See: https://github.com/scikit-learn/scikit-learn/issues/21755 */display: inline-block !important;position: relative;}#sk-container-id-15 div.sk-text-repr-fallback {display: none;}</style><div id=\"sk-container-id-15\" class=\"sk-top-container\"><div class=\"sk-text-repr-fallback\"><pre>SVC()</pre><b>In a Jupyter environment, please rerun this cell to show the HTML representation or trust the notebook. <br />On GitHub, the HTML representation is unable to render, please try loading this page with nbviewer.org.</b></div><div class=\"sk-container\" hidden><div class=\"sk-item\"><div class=\"sk-estimator sk-toggleable\"><input class=\"sk-toggleable__control sk-hidden--visually\" id=\"sk-estimator-id-15\" type=\"checkbox\" checked><label for=\"sk-estimator-id-15\" class=\"sk-toggleable__label sk-toggleable__label-arrow\">SVC</label><div class=\"sk-toggleable__content\"><pre>SVC()</pre></div></div></div></div></div>"
      ],
      "text/plain": [
       "SVC()"
      ]
     },
     "execution_count": 137,
     "metadata": {},
     "output_type": "execute_result"
    }
   ],
   "source": [
    "model_svm.fit(x_train,y_train)"
   ]
  },
  {
   "cell_type": "code",
   "execution_count": 138,
   "id": "2ddde4c3-ba2e-4567-adc7-d5a1747d7a01",
   "metadata": {},
   "outputs": [],
   "source": [
    "y_pred = model_svm.predict(x_test)"
   ]
  },
  {
   "cell_type": "code",
   "execution_count": 139,
   "id": "7a52f86a-779f-4e7f-937d-29e8b697c9ce",
   "metadata": {},
   "outputs": [
    {
     "data": {
      "text/plain": [
       "0.22641509433962265"
      ]
     },
     "execution_count": 139,
     "metadata": {},
     "output_type": "execute_result"
    }
   ],
   "source": [
    "score = accuracy_score(y_pred, y_test)\n",
    "score"
   ]
  },
  {
   "cell_type": "code",
   "execution_count": 140,
   "id": "e3c27661-e02c-4cc4-b3bc-d3117c387cb4",
   "metadata": {},
   "outputs": [
    {
     "data": {
      "text/plain": [
       "array([3, 1, 0, 2, 3, 3, 2, 2, 0, 3, 3, 3, 3, 2, 1, 3, 3, 2, 1, 0, 2, 0,\n",
       "       0, 0, 0, 1, 3, 3, 3, 3, 3, 1, 3, 3, 2, 3, 3, 3, 3, 3, 0, 2, 0, 3,\n",
       "       3, 3, 3, 2, 0, 2, 0, 0, 3])"
      ]
     },
     "execution_count": 140,
     "metadata": {},
     "output_type": "execute_result"
    }
   ],
   "source": [
    "y_pred"
   ]
  },
  {
   "cell_type": "code",
   "execution_count": 141,
   "id": "d3eae259-d4fb-44af-aea0-84b524e508b5",
   "metadata": {},
   "outputs": [
    {
     "data": {
      "text/plain": [
       "array([0, 3, 0, 1, 0, 1, 0, 1, 3, 2, 0, 3, 3, 1, 2, 2, 0, 1, 3, 1, 1, 0,\n",
       "       2, 3, 0, 0, 2, 1, 0, 2, 1, 3, 2, 2, 2, 3, 3, 0, 1, 2, 3, 2, 2, 2,\n",
       "       1, 3, 1, 1, 0, 0, 3, 2, 3])"
      ]
     },
     "execution_count": 141,
     "metadata": {},
     "output_type": "execute_result"
    }
   ],
   "source": [
    "y_test"
   ]
  },
  {
   "cell_type": "code",
   "execution_count": 142,
   "id": "0b7294be-a225-4da4-9d0e-ff6d85a15e00",
   "metadata": {},
   "outputs": [],
   "source": [
    "from sklearn.tree import DecisionTreeClassifier\n",
    "decision_tree_classifier = DecisionTreeClassifier(max_depth=5, min_samples_split=10, min_samples_leaf=5, random_state=42)"
   ]
  },
  {
   "cell_type": "code",
   "execution_count": 143,
   "id": "9cd19c17-68c2-41bc-82dc-6da36fd3fa1d",
   "metadata": {},
   "outputs": [
    {
     "data": {
      "text/html": [
       "<style>#sk-container-id-16 {color: black;background-color: white;}#sk-container-id-16 pre{padding: 0;}#sk-container-id-16 div.sk-toggleable {background-color: white;}#sk-container-id-16 label.sk-toggleable__label {cursor: pointer;display: block;width: 100%;margin-bottom: 0;padding: 0.3em;box-sizing: border-box;text-align: center;}#sk-container-id-16 label.sk-toggleable__label-arrow:before {content: \"▸\";float: left;margin-right: 0.25em;color: #696969;}#sk-container-id-16 label.sk-toggleable__label-arrow:hover:before {color: black;}#sk-container-id-16 div.sk-estimator:hover label.sk-toggleable__label-arrow:before {color: black;}#sk-container-id-16 div.sk-toggleable__content {max-height: 0;max-width: 0;overflow: hidden;text-align: left;background-color: #f0f8ff;}#sk-container-id-16 div.sk-toggleable__content pre {margin: 0.2em;color: black;border-radius: 0.25em;background-color: #f0f8ff;}#sk-container-id-16 input.sk-toggleable__control:checked~div.sk-toggleable__content {max-height: 200px;max-width: 100%;overflow: auto;}#sk-container-id-16 input.sk-toggleable__control:checked~label.sk-toggleable__label-arrow:before {content: \"▾\";}#sk-container-id-16 div.sk-estimator input.sk-toggleable__control:checked~label.sk-toggleable__label {background-color: #d4ebff;}#sk-container-id-16 div.sk-label input.sk-toggleable__control:checked~label.sk-toggleable__label {background-color: #d4ebff;}#sk-container-id-16 input.sk-hidden--visually {border: 0;clip: rect(1px 1px 1px 1px);clip: rect(1px, 1px, 1px, 1px);height: 1px;margin: -1px;overflow: hidden;padding: 0;position: absolute;width: 1px;}#sk-container-id-16 div.sk-estimator {font-family: monospace;background-color: #f0f8ff;border: 1px dotted black;border-radius: 0.25em;box-sizing: border-box;margin-bottom: 0.5em;}#sk-container-id-16 div.sk-estimator:hover {background-color: #d4ebff;}#sk-container-id-16 div.sk-parallel-item::after {content: \"\";width: 100%;border-bottom: 1px solid gray;flex-grow: 1;}#sk-container-id-16 div.sk-label:hover label.sk-toggleable__label {background-color: #d4ebff;}#sk-container-id-16 div.sk-serial::before {content: \"\";position: absolute;border-left: 1px solid gray;box-sizing: border-box;top: 0;bottom: 0;left: 50%;z-index: 0;}#sk-container-id-16 div.sk-serial {display: flex;flex-direction: column;align-items: center;background-color: white;padding-right: 0.2em;padding-left: 0.2em;position: relative;}#sk-container-id-16 div.sk-item {position: relative;z-index: 1;}#sk-container-id-16 div.sk-parallel {display: flex;align-items: stretch;justify-content: center;background-color: white;position: relative;}#sk-container-id-16 div.sk-item::before, #sk-container-id-16 div.sk-parallel-item::before {content: \"\";position: absolute;border-left: 1px solid gray;box-sizing: border-box;top: 0;bottom: 0;left: 50%;z-index: -1;}#sk-container-id-16 div.sk-parallel-item {display: flex;flex-direction: column;z-index: 1;position: relative;background-color: white;}#sk-container-id-16 div.sk-parallel-item:first-child::after {align-self: flex-end;width: 50%;}#sk-container-id-16 div.sk-parallel-item:last-child::after {align-self: flex-start;width: 50%;}#sk-container-id-16 div.sk-parallel-item:only-child::after {width: 0;}#sk-container-id-16 div.sk-dashed-wrapped {border: 1px dashed gray;margin: 0 0.4em 0.5em 0.4em;box-sizing: border-box;padding-bottom: 0.4em;background-color: white;}#sk-container-id-16 div.sk-label label {font-family: monospace;font-weight: bold;display: inline-block;line-height: 1.2em;}#sk-container-id-16 div.sk-label-container {text-align: center;}#sk-container-id-16 div.sk-container {/* jupyter's `normalize.less` sets `[hidden] { display: none; }` but bootstrap.min.css set `[hidden] { display: none !important; }` so we also need the `!important` here to be able to override the default hidden behavior on the sphinx rendered scikit-learn.org. See: https://github.com/scikit-learn/scikit-learn/issues/21755 */display: inline-block !important;position: relative;}#sk-container-id-16 div.sk-text-repr-fallback {display: none;}</style><div id=\"sk-container-id-16\" class=\"sk-top-container\"><div class=\"sk-text-repr-fallback\"><pre>DecisionTreeClassifier(max_depth=5, min_samples_leaf=5, min_samples_split=10,\n",
       "                       random_state=42)</pre><b>In a Jupyter environment, please rerun this cell to show the HTML representation or trust the notebook. <br />On GitHub, the HTML representation is unable to render, please try loading this page with nbviewer.org.</b></div><div class=\"sk-container\" hidden><div class=\"sk-item\"><div class=\"sk-estimator sk-toggleable\"><input class=\"sk-toggleable__control sk-hidden--visually\" id=\"sk-estimator-id-16\" type=\"checkbox\" checked><label for=\"sk-estimator-id-16\" class=\"sk-toggleable__label sk-toggleable__label-arrow\">DecisionTreeClassifier</label><div class=\"sk-toggleable__content\"><pre>DecisionTreeClassifier(max_depth=5, min_samples_leaf=5, min_samples_split=10,\n",
       "                       random_state=42)</pre></div></div></div></div></div>"
      ],
      "text/plain": [
       "DecisionTreeClassifier(max_depth=5, min_samples_leaf=5, min_samples_split=10,\n",
       "                       random_state=42)"
      ]
     },
     "execution_count": 143,
     "metadata": {},
     "output_type": "execute_result"
    }
   ],
   "source": [
    "decision_tree_classifier.fit(x_train, y_train)"
   ]
  },
  {
   "cell_type": "code",
   "execution_count": 144,
   "id": "9ce0dfce-06bc-435b-b3e9-327f8c2bb8ca",
   "metadata": {},
   "outputs": [],
   "source": [
    "y_pred = decision_tree_classifier.predict(x_test)"
   ]
  },
  {
   "cell_type": "code",
   "execution_count": 145,
   "id": "57798590-ede4-4431-8ed5-b88041504bdf",
   "metadata": {},
   "outputs": [
    {
     "data": {
      "text/plain": [
       "0.20754716981132076"
      ]
     },
     "execution_count": 145,
     "metadata": {},
     "output_type": "execute_result"
    }
   ],
   "source": [
    "score = accuracy_score(y_pred, y_test)\n",
    "score"
   ]
  },
  {
   "cell_type": "code",
   "execution_count": 146,
   "id": "367a5024-d6c7-403c-ac14-0cba76719768",
   "metadata": {},
   "outputs": [
    {
     "data": {
      "text/plain": [
       "array([3, 1, 0, 1, 3, 3, 2, 2, 2, 3, 3, 3, 3, 2, 1, 3, 3, 2, 1, 0, 0, 0,\n",
       "       2, 0, 2, 1, 3, 3, 0, 3, 3, 1, 3, 3, 0, 3, 3, 1, 0, 3, 0, 3, 3, 3,\n",
       "       3, 1, 3, 3, 0, 0, 0, 1, 0])"
      ]
     },
     "execution_count": 146,
     "metadata": {},
     "output_type": "execute_result"
    }
   ],
   "source": [
    "y_pred"
   ]
  },
  {
   "cell_type": "code",
   "execution_count": 147,
   "id": "2c6c47b1-8310-4dcb-9b33-513bba4be5e7",
   "metadata": {},
   "outputs": [
    {
     "data": {
      "text/plain": [
       "array([0, 3, 0, 1, 0, 1, 0, 1, 3, 2, 0, 3, 3, 1, 2, 2, 0, 1, 3, 1, 1, 0,\n",
       "       2, 3, 0, 0, 2, 1, 0, 2, 1, 3, 2, 2, 2, 3, 3, 0, 1, 2, 3, 2, 2, 2,\n",
       "       1, 3, 1, 1, 0, 0, 3, 2, 3])"
      ]
     },
     "execution_count": 147,
     "metadata": {},
     "output_type": "execute_result"
    }
   ],
   "source": [
    "y_test"
   ]
  },
  {
   "cell_type": "code",
   "execution_count": 148,
   "id": "cbd7f524-688a-4052-83f0-809ca41af644",
   "metadata": {},
   "outputs": [],
   "source": [
    "from tensorflow.keras.models import Sequential\n",
    "# create layers\n",
    "from tensorflow.keras.layers import Dense\n",
    "from tensorflow.keras.layers import Dropout"
   ]
  },
  {
   "cell_type": "code",
   "execution_count": 149,
   "id": "df027f03-b5fa-4988-9557-70ee82e710a1",
   "metadata": {},
   "outputs": [
    {
     "name": "stdout",
     "output_type": "stream",
     "text": [
      "[[0. 1. 0. 0.]\n",
      " [1. 0. 0. 0.]\n",
      " [0. 1. 0. 0.]\n",
      " [1. 0. 0. 0.]\n",
      " [0. 1. 0. 0.]\n",
      " [0. 0. 1. 0.]\n",
      " [0. 1. 0. 0.]\n",
      " [0. 1. 0. 0.]\n",
      " [1. 0. 0. 0.]\n",
      " [1. 0. 0. 0.]\n",
      " [1. 0. 0. 0.]\n",
      " [0. 1. 0. 0.]\n",
      " [0. 1. 0. 0.]\n",
      " [0. 0. 1. 0.]\n",
      " [0. 0. 1. 0.]\n",
      " [0. 1. 0. 0.]\n",
      " [0. 1. 0. 0.]\n",
      " [0. 1. 0. 0.]\n",
      " [0. 0. 0. 1.]\n",
      " [0. 0. 0. 1.]\n",
      " [1. 0. 0. 0.]\n",
      " [0. 0. 0. 1.]\n",
      " [0. 1. 0. 0.]\n",
      " [0. 1. 0. 0.]\n",
      " [0. 0. 0. 1.]\n",
      " [1. 0. 0. 0.]\n",
      " [0. 0. 1. 0.]\n",
      " [1. 0. 0. 0.]\n",
      " [0. 1. 0. 0.]\n",
      " [0. 1. 0. 0.]\n",
      " [0. 0. 0. 1.]\n",
      " [0. 0. 0. 1.]\n",
      " [1. 0. 0. 0.]\n",
      " [0. 1. 0. 0.]\n",
      " [0. 0. 0. 1.]\n",
      " [0. 0. 1. 0.]\n",
      " [0. 1. 0. 0.]\n",
      " [1. 0. 0. 0.]\n",
      " [0. 1. 0. 0.]\n",
      " [0. 0. 1. 0.]\n",
      " [0. 1. 0. 0.]\n",
      " [1. 0. 0. 0.]\n",
      " [0. 0. 0. 1.]\n",
      " [0. 0. 0. 1.]\n",
      " [0. 1. 0. 0.]\n",
      " [0. 0. 0. 1.]\n",
      " [0. 1. 0. 0.]\n",
      " [0. 0. 1. 0.]\n",
      " [0. 0. 1. 0.]\n",
      " [1. 0. 0. 0.]\n",
      " [0. 0. 1. 0.]\n",
      " [1. 0. 0. 0.]\n",
      " [0. 1. 0. 0.]\n",
      " [0. 0. 1. 0.]\n",
      " [0. 0. 1. 0.]\n",
      " [0. 0. 0. 1.]\n",
      " [0. 0. 0. 1.]\n",
      " [0. 0. 0. 1.]\n",
      " [0. 0. 0. 1.]\n",
      " [0. 1. 0. 0.]\n",
      " [1. 0. 0. 0.]\n",
      " [0. 0. 1. 0.]\n",
      " [0. 1. 0. 0.]\n",
      " [0. 1. 0. 0.]\n",
      " [0. 1. 0. 0.]\n",
      " [0. 0. 1. 0.]\n",
      " [0. 1. 0. 0.]\n",
      " [0. 1. 0. 0.]\n",
      " [0. 0. 0. 1.]\n",
      " [0. 1. 0. 0.]\n",
      " [0. 0. 0. 1.]\n",
      " [0. 0. 1. 0.]\n",
      " [0. 0. 1. 0.]\n",
      " [0. 1. 0. 0.]\n",
      " [1. 0. 0. 0.]\n",
      " [0. 1. 0. 0.]\n",
      " [1. 0. 0. 0.]\n",
      " [1. 0. 0. 0.]\n",
      " [0. 0. 1. 0.]\n",
      " [0. 1. 0. 0.]\n",
      " [1. 0. 0. 0.]\n",
      " [1. 0. 0. 0.]\n",
      " [1. 0. 0. 0.]\n",
      " [0. 1. 0. 0.]\n",
      " [1. 0. 0. 0.]\n",
      " [0. 0. 1. 0.]\n",
      " [1. 0. 0. 0.]\n",
      " [0. 0. 1. 0.]\n",
      " [0. 0. 1. 0.]\n",
      " [1. 0. 0. 0.]\n",
      " [1. 0. 0. 0.]\n",
      " [1. 0. 0. 0.]\n",
      " [1. 0. 0. 0.]\n",
      " [0. 0. 0. 1.]\n",
      " [1. 0. 0. 0.]\n",
      " [0. 0. 0. 1.]\n",
      " [0. 0. 1. 0.]\n",
      " [0. 0. 1. 0.]\n",
      " [0. 0. 0. 1.]\n",
      " [0. 0. 0. 1.]\n",
      " [0. 0. 1. 0.]\n",
      " [0. 1. 0. 0.]\n",
      " [1. 0. 0. 0.]\n",
      " [0. 1. 0. 0.]\n",
      " [1. 0. 0. 0.]\n",
      " [0. 0. 0. 1.]\n",
      " [0. 0. 0. 1.]\n",
      " [0. 0. 0. 1.]\n",
      " [0. 0. 0. 1.]\n",
      " [0. 0. 0. 1.]\n",
      " [0. 1. 0. 0.]\n",
      " [0. 0. 0. 1.]\n",
      " [0. 0. 1. 0.]\n",
      " [0. 1. 0. 0.]\n",
      " [1. 0. 0. 0.]\n",
      " [1. 0. 0. 0.]\n",
      " [0. 1. 0. 0.]\n",
      " [0. 0. 1. 0.]\n",
      " [0. 1. 0. 0.]\n",
      " [1. 0. 0. 0.]\n",
      " [0. 1. 0. 0.]\n",
      " [0. 1. 0. 0.]\n",
      " [0. 0. 0. 1.]\n",
      " [0. 0. 0. 1.]\n",
      " [0. 0. 0. 1.]\n",
      " [0. 0. 1. 0.]\n",
      " [0. 1. 0. 0.]\n",
      " [1. 0. 0. 0.]\n",
      " [0. 0. 1. 0.]\n",
      " [0. 0. 0. 1.]\n",
      " [1. 0. 0. 0.]\n",
      " [0. 0. 0. 1.]\n",
      " [0. 0. 1. 0.]\n",
      " [0. 0. 0. 1.]\n",
      " [1. 0. 0. 0.]\n",
      " [0. 0. 1. 0.]\n",
      " [1. 0. 0. 0.]\n",
      " [1. 0. 0. 0.]\n",
      " [1. 0. 0. 0.]\n",
      " [1. 0. 0. 0.]\n",
      " [1. 0. 0. 0.]\n",
      " [0. 0. 0. 1.]\n",
      " [0. 1. 0. 0.]\n",
      " [0. 0. 1. 0.]\n",
      " [1. 0. 0. 0.]\n",
      " [0. 1. 0. 0.]\n",
      " [1. 0. 0. 0.]\n",
      " [0. 0. 0. 1.]\n",
      " [0. 0. 1. 0.]\n",
      " [1. 0. 0. 0.]\n",
      " [1. 0. 0. 0.]\n",
      " [1. 0. 0. 0.]\n",
      " [0. 0. 1. 0.]\n",
      " [1. 0. 0. 0.]\n",
      " [1. 0. 0. 0.]\n",
      " [0. 0. 1. 0.]\n",
      " [0. 0. 1. 0.]\n",
      " [0. 0. 0. 1.]\n",
      " [0. 0. 0. 1.]\n",
      " [0. 0. 1. 0.]\n",
      " [0. 0. 1. 0.]\n",
      " [0. 0. 1. 0.]\n",
      " [0. 0. 0. 1.]\n",
      " [0. 0. 0. 1.]\n",
      " [0. 0. 0. 1.]\n",
      " [1. 0. 0. 0.]\n",
      " [0. 0. 1. 0.]\n",
      " [1. 0. 0. 0.]\n",
      " [0. 1. 0. 0.]\n",
      " [0. 0. 0. 1.]\n",
      " [0. 0. 0. 1.]\n",
      " [0. 0. 0. 1.]\n",
      " [0. 0. 0. 1.]\n",
      " [0. 1. 0. 0.]\n",
      " [0. 0. 1. 0.]\n",
      " [0. 0. 1. 0.]\n",
      " [0. 0. 1. 0.]\n",
      " [0. 1. 0. 0.]\n",
      " [0. 0. 1. 0.]\n",
      " [0. 0. 0. 1.]\n",
      " [0. 0. 0. 1.]\n",
      " [0. 1. 0. 0.]\n",
      " [0. 1. 0. 0.]\n",
      " [0. 0. 0. 1.]\n",
      " [0. 0. 0. 1.]\n",
      " [0. 0. 0. 1.]\n",
      " [0. 1. 0. 0.]\n",
      " [0. 0. 1. 0.]\n",
      " [0. 0. 0. 1.]\n",
      " [0. 0. 0. 1.]\n",
      " [0. 0. 1. 0.]\n",
      " [0. 1. 0. 0.]\n",
      " [0. 0. 1. 0.]\n",
      " [0. 0. 1. 0.]\n",
      " [0. 0. 1. 0.]\n",
      " [0. 0. 0. 1.]\n",
      " [0. 0. 1. 0.]\n",
      " [0. 1. 0. 0.]\n",
      " [1. 0. 0. 0.]\n",
      " [0. 0. 0. 1.]\n",
      " [1. 0. 0. 0.]\n",
      " [0. 0. 0. 1.]\n",
      " [0. 0. 1. 0.]\n",
      " [1. 0. 0. 0.]\n",
      " [0. 0. 1. 0.]\n",
      " [1. 0. 0. 0.]\n",
      " [0. 0. 1. 0.]\n",
      " [0. 1. 0. 0.]\n",
      " [0. 0. 1. 0.]\n",
      " [0. 1. 0. 0.]\n",
      " [0. 0. 1. 0.]]\n"
     ]
    }
   ],
   "source": [
    "from tensorflow.keras.utils import to_categorical\n",
    "print(to_categorical(y_train))"
   ]
  },
  {
   "cell_type": "code",
   "execution_count": 160,
   "id": "bf7903ca-9f5c-45b7-a7ca-e2743b0dc1f1",
   "metadata": {},
   "outputs": [],
   "source": [
    "model = Sequential()\n",
    "\n",
    "model.add(Dense(32, input_shape=(1,), activation='relu'))\n",
    "model.add(Dense(16, activation='relu'))\n",
    "\n",
    "model.add(Dense(4, activation='softmax'))"
   ]
  },
  {
   "cell_type": "code",
   "execution_count": 161,
   "id": "6a17d58e-a547-4bf8-ab73-2d682dfff5e7",
   "metadata": {},
   "outputs": [],
   "source": [
    "# Compile the model\n",
    "model.compile(optimizer='adam', loss='categorical_crossentropy', metrics=['accuracy'])"
   ]
  },
  {
   "cell_type": "code",
   "execution_count": 162,
   "id": "125420d8-a494-4524-a0e8-35b54527c3b3",
   "metadata": {},
   "outputs": [
    {
     "name": "stdout",
     "output_type": "stream",
     "text": [
      "Epoch 1/100\n",
      "14/14 [==============================] - 1s 3ms/step - loss: 114.3506 - accuracy: 0.2464\n",
      "Epoch 2/100\n",
      "14/14 [==============================] - 0s 3ms/step - loss: 48.6705 - accuracy: 0.2559\n",
      "Epoch 3/100\n",
      "14/14 [==============================] - 0s 4ms/step - loss: 26.9203 - accuracy: 0.2749\n",
      "Epoch 4/100\n",
      "14/14 [==============================] - 0s 3ms/step - loss: 14.8020 - accuracy: 0.2749\n",
      "Epoch 5/100\n",
      "14/14 [==============================] - 0s 3ms/step - loss: 8.0090 - accuracy: 0.2512\n",
      "Epoch 6/100\n",
      "14/14 [==============================] - 0s 3ms/step - loss: 3.1376 - accuracy: 0.2464\n",
      "Epoch 7/100\n",
      "14/14 [==============================] - 0s 4ms/step - loss: 2.1366 - accuracy: 0.2417\n",
      "Epoch 8/100\n",
      "14/14 [==============================] - 0s 3ms/step - loss: 1.5095 - accuracy: 0.2085\n",
      "Epoch 9/100\n",
      "14/14 [==============================] - 0s 3ms/step - loss: 1.7200 - accuracy: 0.2038\n",
      "Epoch 10/100\n",
      "14/14 [==============================] - 0s 3ms/step - loss: 1.6413 - accuracy: 0.2275\n",
      "Epoch 11/100\n",
      "14/14 [==============================] - 0s 3ms/step - loss: 1.6056 - accuracy: 0.2370\n",
      "Epoch 12/100\n",
      "14/14 [==============================] - 0s 2ms/step - loss: 1.6091 - accuracy: 0.2512\n",
      "Epoch 13/100\n",
      "14/14 [==============================] - 0s 4ms/step - loss: 1.7390 - accuracy: 0.2322\n",
      "Epoch 14/100\n",
      "14/14 [==============================] - 0s 3ms/step - loss: 1.4412 - accuracy: 0.2607\n",
      "Epoch 15/100\n",
      "14/14 [==============================] - 0s 4ms/step - loss: 1.4977 - accuracy: 0.2559\n",
      "Epoch 16/100\n",
      "14/14 [==============================] - 0s 2ms/step - loss: 1.6400 - accuracy: 0.2654\n",
      "Epoch 17/100\n",
      "14/14 [==============================] - 0s 3ms/step - loss: 1.6459 - accuracy: 0.2085\n",
      "Epoch 18/100\n",
      "14/14 [==============================] - 0s 2ms/step - loss: 1.6519 - accuracy: 0.2749\n",
      "Epoch 19/100\n",
      "14/14 [==============================] - 0s 3ms/step - loss: 2.0262 - accuracy: 0.2133\n",
      "Epoch 20/100\n",
      "14/14 [==============================] - 0s 3ms/step - loss: 1.7202 - accuracy: 0.1611\n",
      "Epoch 21/100\n",
      "14/14 [==============================] - 0s 3ms/step - loss: 1.4944 - accuracy: 0.3033\n",
      "Epoch 22/100\n",
      "14/14 [==============================] - 0s 4ms/step - loss: 1.8068 - accuracy: 0.2227\n",
      "Epoch 23/100\n",
      "14/14 [==============================] - 0s 2ms/step - loss: 1.8943 - accuracy: 0.2275\n",
      "Epoch 24/100\n",
      "14/14 [==============================] - 0s 2ms/step - loss: 1.6067 - accuracy: 0.2370\n",
      "Epoch 25/100\n",
      "14/14 [==============================] - 0s 3ms/step - loss: 1.4221 - accuracy: 0.2559\n",
      "Epoch 26/100\n",
      "14/14 [==============================] - 0s 4ms/step - loss: 1.4382 - accuracy: 0.2464\n",
      "Epoch 27/100\n",
      "14/14 [==============================] - 0s 2ms/step - loss: 1.5875 - accuracy: 0.2512\n",
      "Epoch 28/100\n",
      "14/14 [==============================] - 0s 3ms/step - loss: 1.4594 - accuracy: 0.2701\n",
      "Epoch 29/100\n",
      "14/14 [==============================] - 0s 2ms/step - loss: 1.6847 - accuracy: 0.2654\n",
      "Epoch 30/100\n",
      "14/14 [==============================] - 0s 4ms/step - loss: 1.5647 - accuracy: 0.2844\n",
      "Epoch 31/100\n",
      "14/14 [==============================] - 0s 3ms/step - loss: 1.5277 - accuracy: 0.2701\n",
      "Epoch 32/100\n",
      "14/14 [==============================] - 0s 4ms/step - loss: 1.5785 - accuracy: 0.2464\n",
      "Epoch 33/100\n",
      "14/14 [==============================] - 0s 2ms/step - loss: 1.8707 - accuracy: 0.2275\n",
      "Epoch 34/100\n",
      "14/14 [==============================] - 0s 5ms/step - loss: 1.8252 - accuracy: 0.2796\n",
      "Epoch 35/100\n",
      "14/14 [==============================] - 0s 5ms/step - loss: 2.1070 - accuracy: 0.2227\n",
      "Epoch 36/100\n",
      "14/14 [==============================] - 0s 6ms/step - loss: 1.8106 - accuracy: 0.2180\n",
      "Epoch 37/100\n",
      "14/14 [==============================] - 0s 5ms/step - loss: 1.6451 - accuracy: 0.2701\n",
      "Epoch 38/100\n",
      "14/14 [==============================] - 0s 4ms/step - loss: 1.8255 - accuracy: 0.2227\n",
      "Epoch 39/100\n",
      "14/14 [==============================] - 0s 2ms/step - loss: 1.5429 - accuracy: 0.2417\n",
      "Epoch 40/100\n",
      "14/14 [==============================] - 0s 3ms/step - loss: 1.6690 - accuracy: 0.1754\n",
      "Epoch 41/100\n",
      "14/14 [==============================] - 0s 3ms/step - loss: 1.5566 - accuracy: 0.2464\n",
      "Epoch 42/100\n",
      "14/14 [==============================] - 0s 3ms/step - loss: 1.5838 - accuracy: 0.2701\n",
      "Epoch 43/100\n",
      "14/14 [==============================] - 0s 2ms/step - loss: 1.5194 - accuracy: 0.2986\n",
      "Epoch 44/100\n",
      "14/14 [==============================] - 0s 4ms/step - loss: 1.5174 - accuracy: 0.2844\n",
      "Epoch 45/100\n",
      "14/14 [==============================] - 0s 4ms/step - loss: 1.6659 - accuracy: 0.2322\n",
      "Epoch 46/100\n",
      "14/14 [==============================] - 0s 4ms/step - loss: 2.0470 - accuracy: 0.2227\n",
      "Epoch 47/100\n",
      "14/14 [==============================] - 0s 4ms/step - loss: 1.6810 - accuracy: 0.2417\n",
      "Epoch 48/100\n",
      "14/14 [==============================] - 0s 3ms/step - loss: 1.6468 - accuracy: 0.2464\n",
      "Epoch 49/100\n",
      "14/14 [==============================] - 0s 3ms/step - loss: 1.8790 - accuracy: 0.2701\n",
      "Epoch 50/100\n",
      "14/14 [==============================] - 0s 3ms/step - loss: 1.6784 - accuracy: 0.2891\n",
      "Epoch 51/100\n",
      "14/14 [==============================] - 0s 3ms/step - loss: 1.7142 - accuracy: 0.2464\n",
      "Epoch 52/100\n",
      "14/14 [==============================] - 0s 3ms/step - loss: 1.8569 - accuracy: 0.2417\n",
      "Epoch 53/100\n",
      "14/14 [==============================] - 0s 3ms/step - loss: 1.6372 - accuracy: 0.2275\n",
      "Epoch 54/100\n",
      "14/14 [==============================] - 0s 2ms/step - loss: 1.9864 - accuracy: 0.2512\n",
      "Epoch 55/100\n",
      "14/14 [==============================] - 0s 2ms/step - loss: 1.5825 - accuracy: 0.2701\n",
      "Epoch 56/100\n",
      "14/14 [==============================] - 0s 2ms/step - loss: 1.4814 - accuracy: 0.2891\n",
      "Epoch 57/100\n",
      "14/14 [==============================] - 0s 2ms/step - loss: 1.6250 - accuracy: 0.2559\n",
      "Epoch 58/100\n",
      "14/14 [==============================] - 0s 2ms/step - loss: 1.5196 - accuracy: 0.2464\n",
      "Epoch 59/100\n",
      "14/14 [==============================] - 0s 2ms/step - loss: 1.7335 - accuracy: 0.2654\n",
      "Epoch 60/100\n",
      "14/14 [==============================] - 0s 2ms/step - loss: 1.6785 - accuracy: 0.2749\n",
      "Epoch 61/100\n",
      "14/14 [==============================] - 0s 3ms/step - loss: 1.5742 - accuracy: 0.1943\n",
      "Epoch 62/100\n",
      "14/14 [==============================] - 0s 3ms/step - loss: 1.5030 - accuracy: 0.2607\n",
      "Epoch 63/100\n",
      "14/14 [==============================] - 0s 2ms/step - loss: 1.7616 - accuracy: 0.2512\n",
      "Epoch 64/100\n",
      "14/14 [==============================] - 0s 2ms/step - loss: 2.0208 - accuracy: 0.2701\n",
      "Epoch 65/100\n",
      "14/14 [==============================] - 0s 2ms/step - loss: 1.6106 - accuracy: 0.2275\n",
      "Epoch 66/100\n",
      "14/14 [==============================] - 0s 2ms/step - loss: 1.6048 - accuracy: 0.2464\n",
      "Epoch 67/100\n",
      "14/14 [==============================] - 0s 2ms/step - loss: 1.9283 - accuracy: 0.1896\n",
      "Epoch 68/100\n",
      "14/14 [==============================] - 0s 2ms/step - loss: 1.4690 - accuracy: 0.2085\n",
      "Epoch 69/100\n",
      "14/14 [==============================] - 0s 2ms/step - loss: 1.5434 - accuracy: 0.2986\n",
      "Epoch 70/100\n",
      "14/14 [==============================] - 0s 2ms/step - loss: 1.6900 - accuracy: 0.2891\n",
      "Epoch 71/100\n",
      "14/14 [==============================] - 0s 2ms/step - loss: 1.7889 - accuracy: 0.2417\n",
      "Epoch 72/100\n",
      "14/14 [==============================] - 0s 2ms/step - loss: 1.4896 - accuracy: 0.2654\n",
      "Epoch 73/100\n",
      "14/14 [==============================] - 0s 2ms/step - loss: 1.6478 - accuracy: 0.2275\n",
      "Epoch 74/100\n",
      "14/14 [==============================] - 0s 2ms/step - loss: 1.5251 - accuracy: 0.2512\n",
      "Epoch 75/100\n",
      "14/14 [==============================] - 0s 2ms/step - loss: 1.5726 - accuracy: 0.2512\n",
      "Epoch 76/100\n",
      "14/14 [==============================] - 0s 2ms/step - loss: 1.8309 - accuracy: 0.2559\n",
      "Epoch 77/100\n",
      "14/14 [==============================] - 0s 2ms/step - loss: 1.7848 - accuracy: 0.2180\n",
      "Epoch 78/100\n",
      "14/14 [==============================] - 0s 2ms/step - loss: 1.9142 - accuracy: 0.2796\n",
      "Epoch 79/100\n",
      "14/14 [==============================] - 0s 2ms/step - loss: 1.7159 - accuracy: 0.2180\n",
      "Epoch 80/100\n",
      "14/14 [==============================] - 0s 2ms/step - loss: 1.9819 - accuracy: 0.2607\n",
      "Epoch 81/100\n",
      "14/14 [==============================] - 0s 2ms/step - loss: 1.6310 - accuracy: 0.2512\n",
      "Epoch 82/100\n",
      "14/14 [==============================] - 0s 2ms/step - loss: 1.5807 - accuracy: 0.2796\n",
      "Epoch 83/100\n",
      "14/14 [==============================] - 0s 2ms/step - loss: 1.5666 - accuracy: 0.2749\n",
      "Epoch 84/100\n",
      "14/14 [==============================] - 0s 2ms/step - loss: 1.8363 - accuracy: 0.2133\n",
      "Epoch 85/100\n",
      "14/14 [==============================] - 0s 2ms/step - loss: 1.7779 - accuracy: 0.2512\n",
      "Epoch 86/100\n",
      "14/14 [==============================] - 0s 2ms/step - loss: 1.6171 - accuracy: 0.2701\n",
      "Epoch 87/100\n",
      "14/14 [==============================] - 0s 2ms/step - loss: 1.5467 - accuracy: 0.2417\n",
      "Epoch 88/100\n",
      "14/14 [==============================] - 0s 2ms/step - loss: 1.6921 - accuracy: 0.3223\n",
      "Epoch 89/100\n",
      "14/14 [==============================] - 0s 2ms/step - loss: 1.5720 - accuracy: 0.2417\n",
      "Epoch 90/100\n",
      "14/14 [==============================] - 0s 2ms/step - loss: 1.4909 - accuracy: 0.2370\n",
      "Epoch 91/100\n",
      "14/14 [==============================] - 0s 2ms/step - loss: 1.6487 - accuracy: 0.2464\n",
      "Epoch 92/100\n",
      "14/14 [==============================] - 0s 2ms/step - loss: 1.9489 - accuracy: 0.2417\n",
      "Epoch 93/100\n",
      "14/14 [==============================] - 0s 2ms/step - loss: 2.4577 - accuracy: 0.2559\n",
      "Epoch 94/100\n",
      "14/14 [==============================] - 0s 2ms/step - loss: 2.1953 - accuracy: 0.2559\n",
      "Epoch 95/100\n",
      "14/14 [==============================] - 0s 2ms/step - loss: 1.7527 - accuracy: 0.2322\n",
      "Epoch 96/100\n",
      "14/14 [==============================] - 0s 2ms/step - loss: 1.4828 - accuracy: 0.3033\n",
      "Epoch 97/100\n",
      "14/14 [==============================] - 0s 2ms/step - loss: 1.5649 - accuracy: 0.2464\n",
      "Epoch 98/100\n",
      "14/14 [==============================] - 0s 2ms/step - loss: 1.4970 - accuracy: 0.2512\n",
      "Epoch 99/100\n",
      "14/14 [==============================] - 0s 2ms/step - loss: 1.8937 - accuracy: 0.2085\n",
      "Epoch 100/100\n",
      "14/14 [==============================] - 0s 2ms/step - loss: 1.7176 - accuracy: 0.2749\n"
     ]
    },
    {
     "data": {
      "text/plain": [
       "<keras.callbacks.History at 0x19da2ed5150>"
      ]
     },
     "execution_count": 162,
     "metadata": {},
     "output_type": "execute_result"
    }
   ],
   "source": [
    "# Train the model\n",
    "model.fit(x_train, to_categorical(y_train), epochs=100, batch_size=16)"
   ]
  },
  {
   "cell_type": "code",
   "execution_count": 169,
   "id": "f0d0c64a-0564-41e0-9227-61a11ea88b7c",
   "metadata": {
    "scrolled": true
   },
   "outputs": [
    {
     "name": "stdout",
     "output_type": "stream",
     "text": [
      "2/2 [==============================] - 0s 0s/step\n"
     ]
    }
   ],
   "source": [
    "prediction = model.predict(x_test)"
   ]
  },
  {
   "cell_type": "code",
   "execution_count": 170,
   "id": "63efe1ba-fedc-4e67-b99c-7cba9cd42483",
   "metadata": {},
   "outputs": [
    {
     "data": {
      "text/plain": [
       "array([[0.21806489, 0.25004858, 0.26003376, 0.27185273],\n",
       "       [0.14014974, 0.291669  , 0.5511687 , 0.0170125 ],\n",
       "       [0.17117627, 0.3029634 , 0.48672614, 0.03913419],\n",
       "       [0.20654263, 0.29818705, 0.3906031 , 0.10466722],\n",
       "       [0.21983492, 0.2689901 , 0.29853776, 0.2126372 ],\n",
       "       [0.21923606, 0.257302  , 0.2738797 , 0.2495823 ],\n",
       "       [0.20119631, 0.3011855 , 0.409118  , 0.08850016],\n",
       "       [0.1964493 , 0.3028481 , 0.42366853, 0.07703416],\n",
       "       [0.18234313, 0.3043018 , 0.46090353, 0.0524516 ],\n",
       "       [0.21963198, 0.27244085, 0.30653864, 0.20138857],\n",
       "       [0.21984556, 0.26534998, 0.29049   , 0.22431439],\n",
       "       [0.21862133, 0.25309697, 0.26573944, 0.26254225],\n",
       "       [0.21595791, 0.24111862, 0.24413766, 0.29878578],\n",
       "       [0.18637764, 0.30430493, 0.45092058, 0.05839685],\n",
       "       [0.14104274, 0.29213116, 0.5493823 , 0.01744374],\n",
       "       [0.21935676, 0.27490395, 0.31250334, 0.19323601],\n",
       "       [0.21948391, 0.25953695, 0.2783484 , 0.24263078],\n",
       "       [0.19947088, 0.30188334, 0.41457692, 0.08406888],\n",
       "       [0.13485101, 0.28881606, 0.56170136, 0.01463157],\n",
       "       [0.16933227, 0.30257702, 0.490799  , 0.0372917 ],\n",
       "       [0.1908019 , 0.30395296, 0.4394284 , 0.06581668],\n",
       "       [0.15928732, 0.29980692, 0.5122725 , 0.02863331],\n",
       "       [0.18221696, 0.30429724, 0.46121055, 0.05227529],\n",
       "       [0.1680133 , 0.3022844 , 0.49367777, 0.03602451],\n",
       "       [0.18157667, 0.30426964, 0.46275297, 0.05140077],\n",
       "       [0.139768  , 0.29147327, 0.5519282 , 0.01683048],\n",
       "       [0.21621215, 0.24206357, 0.24576639, 0.29595792],\n",
       "       [0.21675189, 0.24416512, 0.24943338, 0.28964955],\n",
       "       [0.2177178 , 0.2823371 , 0.332132  , 0.16781303],\n",
       "       [0.21965507, 0.26152074, 0.28240427, 0.23641987],\n",
       "       [0.21526627, 0.23282515, 0.23232241, 0.3195862 ],\n",
       "       [0.14930193, 0.29599783, 0.5327925 , 0.02190774],\n",
       "       [0.21784072, 0.24893995, 0.25799477, 0.2752246 ],\n",
       "       [0.21897991, 0.27725896, 0.31843436, 0.18532674],\n",
       "       [0.18786803, 0.3042303 , 0.4471205 , 0.06078122],\n",
       "       [0.21986355, 0.26737514, 0.29492256, 0.2178388 ],\n",
       "       [0.21978639, 0.27022034, 0.30134314, 0.20865017],\n",
       "       [0.21338956, 0.29127935, 0.36071494, 0.13461617],\n",
       "       [0.21004148, 0.2952585 , 0.37657288, 0.11812716],\n",
       "       [0.20900822, 0.29622996, 0.38092512, 0.11383668],\n",
       "       [0.16880535, 0.30246305, 0.49195176, 0.03677978],\n",
       "       [0.2076622 , 0.29735214, 0.38632327, 0.10866239],\n",
       "       [0.15664776, 0.2988935 , 0.5177638 , 0.02669494],\n",
       "       [0.215233  , 0.23380803, 0.23354544, 0.31741357],\n",
       "       [0.21639702, 0.24276763, 0.24698833, 0.293847  ],\n",
       "       [0.21280968, 0.29207984, 0.36369672, 0.13141374],\n",
       "       [0.21974723, 0.2709122 , 0.3029442 , 0.20639628],\n",
       "       [0.20738487, 0.2975681 , 0.38739607, 0.10765092],\n",
       "       [0.17771077, 0.30396512, 0.47189078, 0.04643327],\n",
       "       [0.18909663, 0.3041375 , 0.4439309 , 0.06283496],\n",
       "       [0.16232637, 0.30076212, 0.5058822 , 0.03102932],\n",
       "       [0.15270336, 0.29740888, 0.5258701 , 0.02401773],\n",
       "       [0.21846566, 0.27965176, 0.32472363, 0.17715888]], dtype=float32)"
      ]
     },
     "execution_count": 170,
     "metadata": {},
     "output_type": "execute_result"
    }
   ],
   "source": [
    "prediction"
   ]
  },
  {
   "cell_type": "code",
   "execution_count": 171,
   "id": "ed125d1f-3d71-44c9-b813-03fc0bbcdee0",
   "metadata": {},
   "outputs": [],
   "source": [
    "import numpy as np"
   ]
  },
  {
   "cell_type": "code",
   "execution_count": 172,
   "id": "552a1f53-f62e-4cf1-8afd-92278b377bd6",
   "metadata": {},
   "outputs": [
    {
     "data": {
      "text/plain": [
       "array([3, 2, 2, 2, 2, 2, 2, 2, 2, 2, 2, 2, 3, 2, 2, 2, 2, 2, 2, 2, 2, 2,\n",
       "       2, 2, 2, 2, 3, 3, 2, 2, 3, 2, 3, 2, 2, 2, 2, 2, 2, 2, 2, 2, 2, 3,\n",
       "       3, 2, 2, 2, 2, 2, 2, 2, 2], dtype=int64)"
      ]
     },
     "execution_count": 172,
     "metadata": {},
     "output_type": "execute_result"
    }
   ],
   "source": [
    "y_pred= np.argmax(prediction,axis=1)\n",
    "y_pred"
   ]
  },
  {
   "cell_type": "code",
   "execution_count": 173,
   "id": "85717b06-8e41-494f-b30c-27a5269c58b5",
   "metadata": {},
   "outputs": [
    {
     "data": {
      "text/plain": [
       "array([0, 3, 0, 1, 0, 1, 0, 1, 3, 2, 0, 3, 3, 1, 2, 2, 0, 1, 3, 1, 1, 0,\n",
       "       2, 3, 0, 0, 2, 1, 0, 2, 1, 3, 2, 2, 2, 3, 3, 0, 1, 2, 3, 2, 2, 2,\n",
       "       1, 3, 1, 1, 0, 0, 3, 2, 3])"
      ]
     },
     "execution_count": 173,
     "metadata": {},
     "output_type": "execute_result"
    }
   ],
   "source": [
    "y_test"
   ]
  },
  {
   "cell_type": "code",
   "execution_count": 174,
   "id": "d34383f1-05c3-4416-94ce-1567d4ae2434",
   "metadata": {},
   "outputs": [
    {
     "data": {
      "text/plain": [
       "0.22641509433962265"
      ]
     },
     "execution_count": 174,
     "metadata": {},
     "output_type": "execute_result"
    }
   ],
   "source": [
    "score = accuracy_score(y_pred, y_test)\n",
    "score"
   ]
  },
  {
   "cell_type": "code",
   "execution_count": null,
   "id": "2e90c49b-b408-4c1b-8bbb-ca5ba830f1df",
   "metadata": {},
   "outputs": [],
   "source": []
  }
 ],
 "metadata": {
  "kernelspec": {
   "display_name": "Python 3 (ipykernel)",
   "language": "python",
   "name": "python3"
  },
  "language_info": {
   "codemirror_mode": {
    "name": "ipython",
    "version": 3
   },
   "file_extension": ".py",
   "mimetype": "text/x-python",
   "name": "python",
   "nbconvert_exporter": "python",
   "pygments_lexer": "ipython3",
   "version": "3.11.2"
  }
 },
 "nbformat": 4,
 "nbformat_minor": 5
}
